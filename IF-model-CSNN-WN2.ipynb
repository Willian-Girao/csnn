{
 "cells": [
  {
   "cell_type": "code",
   "execution_count": 14,
   "metadata": {},
   "outputs": [],
   "source": [
    "import numpy as np\n",
    "import torch.nn as nn\n",
    "import torch, torchvision\n",
    "\n",
    "import matplotlib.pyplot as plt\n",
    "\n",
    "from Analog2SpikeDataset import SpikeDataset\n",
    "from torch.utils.data import DataLoader"
   ]
  },
  {
   "cell_type": "code",
   "execution_count": 15,
   "metadata": {},
   "outputs": [
    {
     "data": {
      "text/plain": [
       "<torch._C.Generator at 0x7fc5066455b0>"
      ]
     },
     "execution_count": 15,
     "metadata": {},
     "output_type": "execute_result"
    }
   ],
   "source": [
    "torch.manual_seed(0)"
   ]
  },
  {
   "cell_type": "code",
   "execution_count": 16,
   "metadata": {},
   "outputs": [
    {
     "name": "stdout",
     "output_type": "stream",
     "text": [
      "device:  NVIDIA RTX A4000\n"
     ]
    }
   ],
   "source": [
    "if torch.cuda.is_available():               # check GPU availability\n",
    "    device = torch.device('cuda')\n",
    "    print('device: ', torch.cuda.get_device_name(0))\n",
    "else:\n",
    "    device = torch.device('cpu')"
   ]
  },
  {
   "cell_type": "markdown",
   "metadata": {},
   "source": [
    "## Simulation Parameters"
   ]
  },
  {
   "cell_type": "code",
   "execution_count": 17,
   "metadata": {},
   "outputs": [],
   "source": [
    "batch_size = 256\n",
    "nb_steps = 100\n",
    "lr = 2e-4\n",
    "epochs = 30\n",
    "root = 'datasets'"
   ]
  },
  {
   "cell_type": "markdown",
   "metadata": {},
   "source": [
    "## Training Data"
   ]
  },
  {
   "cell_type": "code",
   "execution_count": 18,
   "metadata": {},
   "outputs": [],
   "source": [
    "train_dataset = torchvision.datasets.FashionMNIST(root, train=True, transform=None, target_transform=None, download=True)\n",
    "test_dataset = torchvision.datasets.FashionMNIST(root, train=False, transform=None, target_transform=None, download=True)\n",
    "\n",
    "train_spks = SpikeDataset(train_dataset, num_steps=nb_steps)\n",
    "test_spks = SpikeDataset(test_dataset, num_steps=nb_steps)\n",
    "\n",
    "train_loader = DataLoader(train_spks, batch_size=batch_size, shuffle=True, drop_last=True)\n",
    "test_loader = DataLoader(test_spks, batch_size=batch_size, shuffle=True, drop_last=True)"
   ]
  },
  {
   "cell_type": "code",
   "execution_count": 19,
   "metadata": {},
   "outputs": [],
   "source": [
    "sample = train_spks[1]\n",
    "x_ = sample[0]\n",
    "y_ = sample[1]\n",
    "\n",
    "x_ = np.array(x_.tolist())\n",
    "y_ = np.array(y_.tolist())\n",
    "\n",
    "#train_spks.plot_sample(idx=1, save=True)"
   ]
  },
  {
   "cell_type": "markdown",
   "metadata": {},
   "source": [
    "## Neuron Model"
   ]
  },
  {
   "cell_type": "code",
   "execution_count": 20,
   "metadata": {},
   "outputs": [],
   "source": [
    "from SurrogateGradient import SpkSurrogateGradFunction\n",
    "\n",
    "class IFlayer(nn.Module):\n",
    "    def __init__(self, threshold=1.0, output=False):\n",
    "        super().__init__()\n",
    "\n",
    "        self.threshold = threshold\n",
    "        self.output = output\n",
    "\n",
    "        self.spike_fn = SpkSurrogateGradFunction.apply\n",
    "        \n",
    "        self.forwarded = False\n",
    "\n",
    "    def reset_mem(self):\n",
    "        self.forwarded = False\n",
    "    \n",
    "    def forward(self, x, k):\n",
    "\n",
    "        if not hasattr(self, 'mem') or not self.forwarded:\n",
    "            self.mem = torch.zeros_like(x, requires_grad=True)\n",
    "            self.forwarded = True\n",
    "\n",
    "        spk = self.spike_fn(self.mem, self.threshold, k)\n",
    "        rst = spk.detach()\n",
    "        \n",
    "        if self.output:\n",
    "            self.mem = self.mem + x\n",
    "        else:\n",
    "            self.mem = self.mem + x - rst*self.threshold\n",
    "\n",
    "        return spk, self.mem"
   ]
  },
  {
   "cell_type": "markdown",
   "metadata": {},
   "source": [
    "## Spiking CONV Network"
   ]
  },
  {
   "cell_type": "code",
   "execution_count": 21,
   "metadata": {},
   "outputs": [],
   "source": [
    "class SCNN(nn.Module):\n",
    "    def __init__(self, device, input_size=(28,28), nb_fc_units=100, nb_outputs=10):\n",
    "        super().__init__()\n",
    "\n",
    "        self.k = np.float64(100.0)\n",
    "\n",
    "        # --- 1st conv layer\n",
    "        self.k1 = 3\n",
    "        self.nb_filters1 = 4\n",
    "        self.conv1 = nn.Conv2d(in_channels=1, out_channels=self.nb_filters1, kernel_size=self.k1, stride=1, padding=0, bias=False)\n",
    "        self.convif1 = IFlayer()\n",
    "        self.sumpool1 = nn.AvgPool2d(kernel_size=2, stride=1, divisor_override=1)\n",
    "\n",
    "        SCNN.conv_weight_init(self.conv1.weight, self.k1)\n",
    "\n",
    "        outs1 = SCNN.conv_output_size(input_size, conv_st=1, conv_pd=0, conv_ks=self.k1, poo_ks=2, poo_st=1)\n",
    "\n",
    "        # --- 2nd conv layer\n",
    "        self.k2 = 3\n",
    "        self.nb_filters2 = 8\n",
    "        self.conv2 = nn.Conv2d(in_channels=self.nb_filters1, out_channels=self.nb_filters2, kernel_size=self.k2, stride=1, padding=0, bias=False)\n",
    "        self.convif2 = IFlayer()\n",
    "        self.sumpool2 = nn.AvgPool2d(kernel_size=2, stride=1, divisor_override=1)\n",
    "\n",
    "        SCNN.conv_weight_init(self.conv2.weight, self.k2)\n",
    "\n",
    "        outs2 = SCNN.conv_output_size(outs1, conv_st=1, conv_pd=0, conv_ks=self.k2, poo_ks=2, poo_st=1)\n",
    "\n",
    "        # --- FC layers\n",
    "        nb_fc = self.nb_filters2*outs2[0]*outs2[1]\n",
    "\n",
    "        self.fc1if = IFlayer()\n",
    "        self.fc2if = IFlayer(output=True)\n",
    "\n",
    "        # --- Weight matrix between last Conv layer and firt FC layer\n",
    "        self.w_conv_fc = torch.empty((nb_fc, nb_fc_units), device=device, dtype=torch.float, requires_grad=True)\n",
    "        torch.nn.init.normal_(self.w_conv_fc, mean=0.0, std=1/np.sqrt(nb_fc))\n",
    "\n",
    "        # --- Weight matrix between FC layer and output layer\n",
    "        self.w_fc_out = torch.empty((nb_fc_units, nb_outputs), device=device, dtype=torch.float, requires_grad=True)\n",
    "        torch.nn.init.normal_(self.w_fc_out, mean=0.0, std=1/np.sqrt(nb_fc_units))\n",
    "\n",
    "        print(outs1)\n",
    "        print(outs2)\n",
    "        print(nb_fc)\n",
    "        print(nb_fc_units)\n",
    "        print(nb_outputs)\n",
    "\n",
    "    def forward(self, x):\n",
    "        batch_size = x.size(0)\n",
    "\n",
    "        # --- 1st conv layer\n",
    "        out = self.conv1(x)\n",
    "        out, mem1 = self.convif1(out, self.k)\n",
    "        out = self.sumpool1(out)\n",
    "\n",
    "        # --- 2nd conv layer\n",
    "        out = self.conv2(out)\n",
    "        out, mem2 = self.convif2(out, self.k)\n",
    "        out = self.sumpool2(out)\n",
    "\n",
    "        # --- FC layer 1\n",
    "        _flat = out.view(batch_size, -1)\n",
    "        _inp_fc = torch.einsum('ij,jk->ik', (_flat, self.w_conv_fc))\n",
    "        out, mem3 = self.fc1if(_inp_fc, self.k)\n",
    "\n",
    "        # --- FC layer 2\n",
    "        _inp_o = torch.einsum('ij,jk->ik', (out, self.w_fc_out))\n",
    "        out, mem4 = self.fc2if(_inp_o, self.k)\n",
    "\n",
    "        return out, mem4\n",
    "    \n",
    "    def reset_states(self):\n",
    "        self.convif1.reset_mem()\n",
    "        self.convif2.reset_mem()\n",
    "        self.fc1if.reset_mem()\n",
    "        self.fc2if.reset_mem()\n",
    "    \n",
    "    @staticmethod\n",
    "    def model_forward(model, data, nb_steps):\n",
    "        spk_out_all = []\n",
    "        mem_out_all = []\n",
    "        model.reset_states()\n",
    "\n",
    "        for step in range(nb_steps):\n",
    "            spk_out, mem_out = model.forward(data[:, step:step+1, :, :])\n",
    "\n",
    "            spk_out_all.append(spk_out)\n",
    "            mem_out_all.append(mem_out)\n",
    "\n",
    "        return torch.stack(spk_out_all, dim=1), torch.stack(mem_out_all, dim=1)\n",
    "    \n",
    "    @staticmethod\n",
    "    def conv_weight_init(w_matrix, conv_ks):\n",
    "        torch.nn.init.normal_(w_matrix, mean=0.0, std=1/np.sqrt(conv_ks**2))\n",
    "\n",
    "    @staticmethod\n",
    "    def conv_output_size(input_size, conv_st, conv_pd, conv_ks, poo_ks, poo_st):\n",
    "        conv_output_size = [(size + 2 * conv_pd - conv_ks) // conv_st + 1 for size in input_size]   # xonvolution with padding=1 and stride=1\n",
    "        pool_output_size = [(size - poo_ks) // poo_st + 1 for size in conv_output_size]             # max pooling with size=2 and stride=1\n",
    "        return pool_output_size"
   ]
  },
  {
   "cell_type": "code",
   "execution_count": 22,
   "metadata": {},
   "outputs": [
    {
     "name": "stdout",
     "output_type": "stream",
     "text": [
      "[25, 25]\n",
      "[22, 22]\n",
      "3872\n",
      "100\n",
      "10\n"
     ]
    }
   ],
   "source": [
    "model = SCNN(device=device).to(device)"
   ]
  },
  {
   "cell_type": "markdown",
   "metadata": {},
   "source": [
    "## Optimizer & Loss"
   ]
  },
  {
   "cell_type": "code",
   "execution_count": 23,
   "metadata": {},
   "outputs": [],
   "source": [
    "params = [model.conv1.weight, model.conv2.weight, model.w_conv_fc, model.w_fc_out]\n",
    "optimizer = torch.optim.Adam(params, lr=lr)"
   ]
  },
  {
   "cell_type": "code",
   "execution_count": 24,
   "metadata": {},
   "outputs": [],
   "source": [
    "log_softmax_fn = nn.LogSoftmax(dim=1)\n",
    "loss_fn = nn.NLLLoss()"
   ]
  },
  {
   "cell_type": "markdown",
   "metadata": {},
   "source": [
    "## Training Loop"
   ]
  },
  {
   "cell_type": "code",
   "execution_count": 25,
   "metadata": {},
   "outputs": [
    {
     "name": "stdout",
     "output_type": "stream",
     "text": [
      "Epoch 1: loss=1.58427\n",
      "Epoch 2: loss=1.05627\n",
      "Epoch 3: loss=0.91598\n",
      "Epoch 4: loss=0.75237\n",
      "Epoch 5: loss=0.72201\n",
      "Epoch 6: loss=0.64748\n",
      "Epoch 7: loss=0.63127\n",
      "Epoch 8: loss=0.65536\n",
      "Epoch 9: loss=0.63471\n",
      "Epoch 10: loss=0.57377\n",
      "Epoch 11: loss=0.56909\n",
      "Epoch 12: loss=0.55885\n",
      "Epoch 13: loss=0.51618\n",
      "Epoch 14: loss=0.49230\n",
      "Epoch 15: loss=0.49436\n",
      "Epoch 16: loss=0.51150\n",
      "Epoch 17: loss=0.46568\n",
      "Epoch 18: loss=0.44477\n",
      "Epoch 19: loss=0.43767\n",
      "Epoch 20: loss=0.43610\n",
      "Epoch 21: loss=0.42311\n",
      "Epoch 22: loss=0.41669\n",
      "Epoch 23: loss=0.40583\n",
      "Epoch 24: loss=0.39936\n",
      "Epoch 25: loss=0.38672\n",
      "Epoch 26: loss=0.36680\n",
      "Epoch 27: loss=0.35563\n",
      "Epoch 28: loss=0.35053\n",
      "Epoch 29: loss=0.34541\n",
      "Epoch 30: loss=0.38676\n"
     ]
    }
   ],
   "source": [
    "loss_hist = []\n",
    "model.train()\n",
    "\n",
    "for e in range(epochs):\n",
    "    local_loss = []\n",
    "    \n",
    "    for data, targets in iter(train_loader):\n",
    "        data = data.to(device)\n",
    "        targets = targets.to(device)\n",
    "\n",
    "        # forward pass\n",
    "        out_spks, out_mems = SCNN.model_forward(model, data, nb_steps)\n",
    "        m, _ = torch.max(out_mems, 1)\n",
    "        log_p_y = log_softmax_fn(m)\n",
    "\n",
    "        # initialize the loss & sum over time\n",
    "        loss_val = loss_fn(log_p_y, targets.long())\n",
    "\n",
    "        # gradient calculation + weight update\n",
    "        optimizer.zero_grad()\n",
    "        loss_val.backward()\n",
    "        optimizer.step()\n",
    "\n",
    "        local_loss.append(loss_val.item())\n",
    "    \n",
    "    mean_loss = np.mean(local_loss)\n",
    "    print(\"Epoch %i: loss=%.5f\"%(e+1,mean_loss))\n",
    "    loss_hist.append(mean_loss)"
   ]
  },
  {
   "cell_type": "code",
   "execution_count": 26,
   "metadata": {},
   "outputs": [
    {
     "data": {
      "image/png": "[encoded data removed]",
      "text/plain": [
       "<Figure size 495x300 with 1 Axes>"
      ]
     },
     "metadata": {},
     "output_type": "display_data"
    }
   ],
   "source": [
    "plt.figure(figsize=(3.3,2),dpi=150)\n",
    "plt.plot(loss_hist)\n",
    "plt.xlabel(\"Epoch\")\n",
    "plt.ylabel(\"Loss\")\n",
    "plt.show()"
   ]
  },
  {
   "cell_type": "markdown",
   "metadata": {},
   "source": [
    "## Accuracy"
   ]
  },
  {
   "cell_type": "code",
   "execution_count": 27,
   "metadata": {},
   "outputs": [
    {
     "name": "stdout",
     "output_type": "stream",
     "text": [
      "test accuracy: 0.8443509615384616\n"
     ]
    }
   ],
   "source": [
    "accs = []\n",
    "with torch.no_grad():\n",
    "    total = 0\n",
    "    correct = 0\n",
    "    model.eval()\n",
    "\n",
    "    test_loader = iter(test_loader)\n",
    "\n",
    "    for data, targets in test_loader:\n",
    "        data = data.to(device)\n",
    "        targets = targets.to(device)\n",
    "\n",
    "        out_spks, out_mems = SCNN.model_forward(model, data, nb_steps)\n",
    "\n",
    "        m,_= torch.max(out_mems,1) # max over time\n",
    "        _,am=torch.max(m,1)      # argmax over output units\n",
    "        tmp = np.mean((targets==am).detach().cpu().numpy()) # compare to labels\n",
    "        accs.append(tmp)\n",
    "\n",
    "mean_acc = np.mean(accs)\n",
    "print(f'test accuracy: {mean_acc}')"
   ]
  },
  {
   "cell_type": "code",
   "execution_count": 28,
   "metadata": {},
   "outputs": [
    {
     "name": "stdout",
     "output_type": "stream",
     "text": [
      "train accuracy: 0.8715277777777778\n"
     ]
    }
   ],
   "source": [
    "accs = []\n",
    "with torch.no_grad():\n",
    "    total = 0\n",
    "    correct = 0\n",
    "    model.eval()\n",
    "\n",
    "    train_loader = iter(train_loader)\n",
    "\n",
    "    for data, targets in train_loader:\n",
    "        data = data.to(device)\n",
    "        targets = targets.to(device)\n",
    "\n",
    "        out_spks, out_mems = SCNN.model_forward(model, data, nb_steps)\n",
    "\n",
    "        m,_= torch.max(out_mems,1) # max over time\n",
    "        _,am=torch.max(m,1)      # argmax over output units\n",
    "        tmp = np.mean((targets==am).detach().cpu().numpy()) # compare to labels\n",
    "        accs.append(tmp)\n",
    "\n",
    "mean_acc = np.mean(accs)\n",
    "print(f'train accuracy: {mean_acc}')"
   ]
  }
 ],
 "metadata": {
  "kernelspec": {
   "display_name": "csnn",
   "language": "python",
   "name": "python3"
  },
  "language_info": {
   "codemirror_mode": {
    "name": "ipython",
    "version": 3
   },
   "file_extension": ".py",
   "mimetype": "text/x-python",
   "name": "python",
   "nbconvert_exporter": "python",
   "pygments_lexer": "ipython3",
   "version": "3.11.3"
  }
 },
 "nbformat": 4,
 "nbformat_minor": 2
}
