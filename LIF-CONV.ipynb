{
 "cells": [
  {
   "cell_type": "code",
   "execution_count": 1,
   "metadata": {},
   "outputs": [],
   "source": [
    "import numpy as np\n",
    "import torch.nn as nn\n",
    "import torch, torchvision\n",
    "\n",
    "import matplotlib.pyplot as plt\n",
    "\n",
    "from Analog2SpikeDataset import SpikeDataset\n",
    "from torch.utils.data import DataLoader"
   ]
  },
  {
   "cell_type": "code",
   "execution_count": null,
   "metadata": {},
   "outputs": [
    {
     "ename": "",
     "evalue": "",
     "output_type": "error",
     "traceback": [
      "\u001b[1;31mFailed to start the Kernel. \n",
      "\u001b[1;31mUnable to start Kernel 'csnn (Python 3.11.3)' due to a connection timeout. \n",
      "\u001b[1;31mView Jupyter <a href='command:jupyter.viewOutput'>log</a> for further details."
     ]
    }
   ],
   "source": [
    "torch.manual_seed(0)"
   ]
  },
  {
   "cell_type": "code",
   "execution_count": null,
   "metadata": {},
   "outputs": [
    {
     "ename": "",
     "evalue": "",
     "output_type": "error",
     "traceback": [
      "\u001b[1;31mFailed to start the Kernel. \n",
      "\u001b[1;31mUnable to start Kernel 'csnn (Python 3.11.3)' due to a connection timeout. \n",
      "\u001b[1;31mView Jupyter <a href='command:jupyter.viewOutput'>log</a> for further details."
     ]
    }
   ],
   "source": [
    "if torch.cuda.is_available():               # check GPU availability\n",
    "    device = torch.device('cuda')\n",
    "    print('device: ', torch.cuda.get_device_name(0))\n",
    "else:\n",
    "    device = torch.device('cpu')"
   ]
  },
  {
   "cell_type": "markdown",
   "metadata": {},
   "source": [
    "## Simulation Parameters"
   ]
  },
  {
   "cell_type": "code",
   "execution_count": null,
   "metadata": {},
   "outputs": [
    {
     "ename": "",
     "evalue": "",
     "output_type": "error",
     "traceback": [
      "\u001b[1;31mFailed to start the Kernel. \n",
      "\u001b[1;31mUnable to start Kernel 'csnn (Python 3.11.3)' due to a connection timeout. \n",
      "\u001b[1;31mView Jupyter <a href='command:jupyter.viewOutput'>log</a> for further details."
     ]
    }
   ],
   "source": [
    "batch_size = 256\n",
    "nb_steps = 100\n",
    "lr = 2e-4\n",
    "epochs = 30\n",
    "root = 'datasets'"
   ]
  },
  {
   "cell_type": "markdown",
   "metadata": {},
   "source": [
    "## Training Data"
   ]
  },
  {
   "cell_type": "code",
   "execution_count": null,
   "metadata": {},
   "outputs": [
    {
     "ename": "",
     "evalue": "",
     "output_type": "error",
     "traceback": [
      "\u001b[1;31mFailed to start the Kernel. \n",
      "\u001b[1;31mUnable to start Kernel 'csnn (Python 3.11.3)' due to a connection timeout. \n",
      "\u001b[1;31mView Jupyter <a href='command:jupyter.viewOutput'>log</a> for further details."
     ]
    }
   ],
   "source": [
    "train_dataset = torchvision.datasets.FashionMNIST(root, train=True, transform=None, target_transform=None, download=True)\n",
    "test_dataset = torchvision.datasets.FashionMNIST(root, train=False, transform=None, target_transform=None, download=True)\n",
    "\n",
    "train_spks = SpikeDataset(train_dataset, num_steps=nb_steps)\n",
    "test_spks = SpikeDataset(test_dataset, num_steps=nb_steps)\n",
    "\n",
    "train_loader = DataLoader(train_spks, batch_size=batch_size, shuffle=True, drop_last=True)\n",
    "test_loader = DataLoader(test_spks, batch_size=batch_size, shuffle=True, drop_last=True)"
   ]
  },
  {
   "cell_type": "code",
   "execution_count": null,
   "metadata": {},
   "outputs": [
    {
     "ename": "",
     "evalue": "",
     "output_type": "error",
     "traceback": [
      "\u001b[1;31mFailed to start the Kernel. \n",
      "\u001b[1;31mUnable to start Kernel 'csnn (Python 3.11.3)' due to a connection timeout. \n",
      "\u001b[1;31mView Jupyter <a href='command:jupyter.viewOutput'>log</a> for further details."
     ]
    }
   ],
   "source": [
    "sample = train_spks[1]\n",
    "x_ = sample[0]\n",
    "y_ = sample[1]\n",
    "\n",
    "x_ = np.array(x_.tolist())\n",
    "y_ = np.array(y_.tolist())\n",
    "\n",
    "#train_spks.plot_sample(idx=1, save=True)"
   ]
  },
  {
   "cell_type": "markdown",
   "metadata": {},
   "source": [
    "## Neuron Model"
   ]
  },
  {
   "cell_type": "code",
   "execution_count": null,
   "metadata": {},
   "outputs": [
    {
     "ename": "",
     "evalue": "",
     "output_type": "error",
     "traceback": [
      "\u001b[1;31mFailed to start the Kernel. \n",
      "\u001b[1;31mUnable to start Kernel 'csnn (Python 3.11.3)' due to a connection timeout. \n",
      "\u001b[1;31mView Jupyter <a href='command:jupyter.viewOutput'>log</a> for further details."
     ]
    }
   ],
   "source": [
    "from SurrogateGradient import SpkSurrogateGradFunction\n",
    "\n",
    "class LIFlayer(nn.Module):\n",
    "    def __init__(self, tau_mem=10e-3, tau_syn=5e-3, threshold=1.0, t_step=1e-3, output=False):\n",
    "        super().__init__()\n",
    "\n",
    "        self.tau_mem = tau_mem\n",
    "        self.tau_syn = tau_syn\n",
    "        self.threshold = threshold\n",
    "        self.t_step = t_step\n",
    "        self.output = output\n",
    "\n",
    "        self.beta = np.float64(np.exp(-self.t_step/self.tau_mem))\n",
    "        self.alpha = np.float64(np.exp(-self.t_step/self.tau_syn))\n",
    "\n",
    "        self.spike_fn = SpkSurrogateGradFunction.apply\n",
    "        \n",
    "        self.forwarded = False\n",
    "\n",
    "    def reset_mem(self):\n",
    "        self.forwarded = False\n",
    "    \n",
    "    def forward(self, x, k):\n",
    "\n",
    "        if not hasattr(self, 'mem') or not self.forwarded:\n",
    "            self.mem = torch.zeros_like(x, requires_grad=True)\n",
    "            self.syn = torch.zeros_like(x, requires_grad=True)\n",
    "            self.forwarded = True\n",
    "\n",
    "        spk = self.spike_fn(self.mem, self.threshold, k)\n",
    "        rst = spk.detach()\n",
    "\n",
    "        self.syn = self.alpha*self.syn + x\n",
    "        \n",
    "        if self.output:\n",
    "            self.mem = (self.beta*self.mem + self.syn)\n",
    "        else:\n",
    "            self.mem = (self.beta*self.mem + self.syn)*(1.0 - rst)\n",
    "\n",
    "        return spk, self.mem"
   ]
  },
  {
   "cell_type": "markdown",
   "metadata": {},
   "source": [
    "## Spiking CONV Network"
   ]
  },
  {
   "cell_type": "code",
   "execution_count": null,
   "metadata": {},
   "outputs": [
    {
     "ename": "",
     "evalue": "",
     "output_type": "error",
     "traceback": [
      "\u001b[1;31mFailed to start the Kernel. \n",
      "\u001b[1;31mUnable to start Kernel 'csnn (Python 3.11.3)' due to a connection timeout. \n",
      "\u001b[1;31mView Jupyter <a href='command:jupyter.viewOutput'>log</a> for further details."
     ]
    }
   ],
   "source": [
    "class SCNN(nn.Module):\n",
    "    def __init__(self, device, input_size=(28,28), nb_fc_units=100, nb_outputs=10):\n",
    "        super().__init__()\n",
    "\n",
    "        self.k = np.float64(100.0)\n",
    "\n",
    "        # --- 1st conv layer\n",
    "        self.k1 = 2\n",
    "        self.conv1 = nn.Conv2d(in_channels=1, out_channels=2, kernel_size=self.k1, stride=1, padding=0, bias=False)\n",
    "        self.convlif1 = LIFlayer()\n",
    "        self.ws1 = 7*(1.0-self.convlif1.beta)\n",
    "        torch.nn.init.normal_(self.conv1.weight, mean=0.0, std=self.ws1/np.sqrt(self.k1*self.k1))\n",
    "\n",
    "        outs1 = SCNN.conv_output_size(input_size, conv_st=1, conv_pd=0, conv_ks=self.k1)\n",
    "\n",
    "        # --- 2nd conv layer\n",
    "        self.k2 = 2\n",
    "        self.conv2 = nn.Conv2d(in_channels=2, out_channels=3, kernel_size=self.k2, stride=1, padding=0, bias=False)\n",
    "        self.convlif2 = LIFlayer()\n",
    "        self.ws2 = 7*(1.0-self.convlif2.beta)\n",
    "        torch.nn.init.normal_(self.conv2.weight, mean=0.0, std=self.ws2/np.sqrt(self.k2*self.k2))\n",
    "\n",
    "        outs2 = SCNN.conv_output_size(outs1, conv_st=1, conv_pd=0, conv_ks=self.k2)\n",
    "\n",
    "        nb_fc = 3*outs2[0]*outs2[1]\n",
    "        \n",
    "        print(outs1)\n",
    "        print(outs2)\n",
    "        print(nb_fc)\n",
    "\n",
    "        # --- FC layers\n",
    "        self.fc1lif = LIFlayer()\n",
    "        self.fc2lif = LIFlayer(output=True)\n",
    "\n",
    "        # --- Weight matrix between last Conv layer and firt FC layer\n",
    "        self.w_conv_fc = torch.empty((nb_fc, nb_fc_units), device=device, dtype=torch.float, requires_grad=True)\n",
    "        self.ws3 = 7*(1.0-self.fc1lif.beta)\n",
    "        torch.nn.init.normal_(self.w_conv_fc, mean=0.0, std=self.ws3/np.sqrt(nb_fc))\n",
    "\n",
    "        # --- Weight matrix between FC layer and output layer\n",
    "        self.w_fc_out = torch.empty((nb_fc_units, nb_outputs), device=device, dtype=torch.float, requires_grad=True)\n",
    "        self.ws4 = 7*(1.0-self.fc2lif.beta)\n",
    "        torch.nn.init.normal_(self.w_fc_out, mean=0.0, std=self.ws4/np.sqrt(nb_fc_units))\n",
    "\n",
    "    def forward(self, x):\n",
    "        batch_size = x.size(0)\n",
    "\n",
    "        # --- 1st conv layer\n",
    "        out = self.conv1(x)\n",
    "        out, mem1 = self.convlif1(out, self.k)\n",
    "\n",
    "        # --- 2nd conv layer\n",
    "        out = self.conv2(out)\n",
    "        out, mem2 = self.convlif2(out, self.k)\n",
    "\n",
    "        # --- FC layer 1\n",
    "        _flat = out.view(batch_size, -1)\n",
    "        _inp_fc = torch.einsum('ij,jk->ik', (_flat, self.w_conv_fc))\n",
    "        out, mem3 = self.fc1lif(_inp_fc, self.k)\n",
    "\n",
    "        # --- FC layer 2\n",
    "        _flat = out.view(batch_size, -1)\n",
    "        _inp_o = torch.einsum('ij,jk->ik', (_flat, self.w_fc_out))\n",
    "        out, mem4 = self.fc2lif(_inp_o, self.k)\n",
    "\n",
    "        return out, mem4\n",
    "    \n",
    "    def reset_states(self):\n",
    "        self.convlif1.reset_mem()\n",
    "        self.convlif2.reset_mem()\n",
    "        self.fc1lif.reset_mem()\n",
    "        self.fc2lif.reset_mem()\n",
    "    \n",
    "    @staticmethod\n",
    "    def model_forward(model, data, nb_steps):\n",
    "        spk_out_all = []\n",
    "        mem_out_all = []\n",
    "        model.reset_states()\n",
    "\n",
    "        for step in range(nb_steps):\n",
    "            spk_out, mem_out = model.forward(data[:, step, :, :])\n",
    "\n",
    "            spk_out_all.append(spk_out)\n",
    "            mem_out_all.append(mem_out)\n",
    "\n",
    "        return torch.stack(spk_out_all, dim=1), torch.stack(mem_out_all, dim=1)\n",
    "\n",
    "    @staticmethod\n",
    "    def conv_output_size(input_size, conv_st, conv_pd, conv_ks):\n",
    "        conv_output_size = [(size + 2 * conv_pd - conv_ks) // conv_st + 1 for size in input_size]\n",
    "        return conv_output_size"
   ]
  },
  {
   "cell_type": "code",
   "execution_count": null,
   "metadata": {},
   "outputs": [
    {
     "ename": "",
     "evalue": "",
     "output_type": "error",
     "traceback": [
      "\u001b[1;31mFailed to start the Kernel. \n",
      "\u001b[1;31mUnable to start Kernel 'csnn (Python 3.11.3)' due to a connection timeout. \n",
      "\u001b[1;31mView Jupyter <a href='command:jupyter.viewOutput'>log</a> for further details."
     ]
    }
   ],
   "source": [
    "model = SCNN(device=device)"
   ]
  },
  {
   "cell_type": "markdown",
   "metadata": {},
   "source": [
    "## Optimizer & Loss"
   ]
  },
  {
   "cell_type": "code",
   "execution_count": null,
   "metadata": {},
   "outputs": [
    {
     "ename": "",
     "evalue": "",
     "output_type": "error",
     "traceback": [
      "\u001b[1;31mFailed to start the Kernel. \n",
      "\u001b[1;31mUnable to start Kernel 'csnn (Python 3.11.3)' due to a connection timeout. \n",
      "\u001b[1;31mView Jupyter <a href='command:jupyter.viewOutput'>log</a> for further details."
     ]
    }
   ],
   "source": [
    "params = [model.conv1.weight, model.conv2.weight, model.w_conv_fc, model.w_fc_out]\n",
    "optimizer = torch.optim.Adam(params, lr=lr)"
   ]
  },
  {
   "cell_type": "code",
   "execution_count": null,
   "metadata": {},
   "outputs": [
    {
     "ename": "",
     "evalue": "",
     "output_type": "error",
     "traceback": [
      "\u001b[1;31mFailed to start the Kernel. \n",
      "\u001b[1;31mUnable to start Kernel 'csnn (Python 3.11.3)' due to a connection timeout. \n",
      "\u001b[1;31mView Jupyter <a href='command:jupyter.viewOutput'>log</a> for further details."
     ]
    }
   ],
   "source": [
    "log_softmax_fn = nn.LogSoftmax(dim=1)\n",
    "loss_fn = nn.NLLLoss()"
   ]
  },
  {
   "cell_type": "markdown",
   "metadata": {},
   "source": [
    "## Training Loop"
   ]
  },
  {
   "cell_type": "code",
   "execution_count": null,
   "metadata": {},
   "outputs": [
    {
     "ename": "",
     "evalue": "",
     "output_type": "error",
     "traceback": [
      "\u001b[1;31mFailed to start the Kernel. \n",
      "\u001b[1;31mUnable to start Kernel 'csnn (Python 3.11.3)' due to a connection timeout. \n",
      "\u001b[1;31mView Jupyter <a href='command:jupyter.viewOutput'>log</a> for further details."
     ]
    }
   ],
   "source": [
    "loss_hist = []\n",
    "model.train()\n",
    "\n",
    "for e in range(epochs):\n",
    "    local_loss = []\n",
    "    \n",
    "    for data, targets in iter(train_loader):\n",
    "        data = data.to(device)\n",
    "        targets = targets.to(device)\n",
    "\n",
    "        # forward pass\n",
    "        out_spks, out_mems = SFCN.model_forward(model, data, nb_steps)\n",
    "        m, _ = torch.max(out_mems, 1)\n",
    "        log_p_y = log_softmax_fn(m)\n",
    "\n",
    "        # initialize the loss & sum over time\n",
    "        loss_val = loss_fn(log_p_y, targets.long())\n",
    "\n",
    "        # gradient calculation + weight update\n",
    "        optimizer.zero_grad()\n",
    "        loss_val.backward()\n",
    "        optimizer.step()\n",
    "\n",
    "        local_loss.append(loss_val.item())\n",
    "    \n",
    "    mean_loss = np.mean(local_loss)\n",
    "    print(\"Epoch %i: loss=%.5f\"%(e+1,mean_loss))\n",
    "    loss_hist.append(mean_loss)"
   ]
  },
  {
   "cell_type": "code",
   "execution_count": null,
   "metadata": {},
   "outputs": [
    {
     "ename": "",
     "evalue": "",
     "output_type": "error",
     "traceback": [
      "\u001b[1;31mFailed to start the Kernel. \n",
      "\u001b[1;31mUnable to start Kernel 'csnn (Python 3.11.3)' due to a connection timeout. \n",
      "\u001b[1;31mView Jupyter <a href='command:jupyter.viewOutput'>log</a> for further details."
     ]
    }
   ],
   "source": [
    "plt.figure(figsize=(3.3,2),dpi=150)\n",
    "plt.plot(loss_hist)\n",
    "plt.xlabel(\"Epoch\")\n",
    "plt.ylabel(\"Loss\")\n",
    "plt.show()"
   ]
  },
  {
   "cell_type": "markdown",
   "metadata": {},
   "source": [
    "## Accuracy"
   ]
  },
  {
   "cell_type": "code",
   "execution_count": null,
   "metadata": {},
   "outputs": [
    {
     "ename": "",
     "evalue": "",
     "output_type": "error",
     "traceback": [
      "\u001b[1;31mFailed to start the Kernel. \n",
      "\u001b[1;31mUnable to start Kernel 'csnn (Python 3.11.3)' due to a connection timeout. \n",
      "\u001b[1;31mView Jupyter <a href='command:jupyter.viewOutput'>log</a> for further details."
     ]
    }
   ],
   "source": [
    "accs = []\n",
    "with torch.no_grad():\n",
    "    total = 0\n",
    "    correct = 0\n",
    "    model.eval()\n",
    "\n",
    "    test_loader = iter(test_loader)\n",
    "\n",
    "    for data, targets in test_loader:\n",
    "        data = data.to(device)\n",
    "        targets = targets.to(device)\n",
    "\n",
    "        out_spks, out_mems = SFCN.model_forward(model, data, nb_steps)\n",
    "\n",
    "        m,_= torch.max(out_mems,1) # max over time\n",
    "        _,am=torch.max(m,1)      # argmax over output units\n",
    "        tmp = np.mean((targets==am).detach().cpu().numpy()) # compare to labels\n",
    "        accs.append(tmp)\n",
    "\n",
    "mean_acc = np.mean(accs)\n",
    "print(f'test accuracy: {mean_acc}')"
   ]
  },
  {
   "cell_type": "code",
   "execution_count": null,
   "metadata": {},
   "outputs": [
    {
     "ename": "",
     "evalue": "",
     "output_type": "error",
     "traceback": [
      "\u001b[1;31mFailed to start the Kernel. \n",
      "\u001b[1;31mUnable to start Kernel 'csnn (Python 3.11.3)' due to a connection timeout. \n",
      "\u001b[1;31mView Jupyter <a href='command:jupyter.viewOutput'>log</a> for further details."
     ]
    }
   ],
   "source": [
    "accs = []\n",
    "with torch.no_grad():\n",
    "    total = 0\n",
    "    correct = 0\n",
    "    model.eval()\n",
    "\n",
    "    train_loader = iter(train_loader)\n",
    "\n",
    "    for data, targets in train_loader:\n",
    "        data = data.to(device)\n",
    "        targets = targets.to(device)\n",
    "\n",
    "        out_spks, out_mems = SFCN.model_forward(model, data, nb_steps)\n",
    "\n",
    "        m,_= torch.max(out_mems,1) # max over time\n",
    "        _,am=torch.max(m,1)      # argmax over output units\n",
    "        tmp = np.mean((targets==am).detach().cpu().numpy()) # compare to labels\n",
    "        accs.append(tmp)\n",
    "\n",
    "mean_acc = np.mean(accs)\n",
    "print(f'train accuracy: {mean_acc}')"
   ]
  }
 ],
 "metadata": {
  "kernelspec": {
   "display_name": "csnn",
   "language": "python",
   "name": "python3"
  },
  "language_info": {
   "codemirror_mode": {
    "name": "ipython",
    "version": 3
   },
   "file_extension": ".py",
   "mimetype": "text/x-python",
   "name": "python",
   "nbconvert_exporter": "python",
   "pygments_lexer": "ipython3",
   "version": "3.11.3"
  }
 },
 "nbformat": 4,
 "nbformat_minor": 2
}
