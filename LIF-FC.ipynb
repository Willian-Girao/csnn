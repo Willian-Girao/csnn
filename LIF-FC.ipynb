{
 "cells": [
  {
   "cell_type": "code",
   "execution_count": 1,
   "metadata": {},
   "outputs": [],
   "source": [
    "import numpy as np\n",
    "import torch.nn as nn\n",
    "import torch, torchvision\n",
    "\n",
    "import matplotlib.pyplot as plt\n",
    "\n",
    "from Analog2SpikeDataset import SpikeDataset\n",
    "from torch.utils.data import DataLoader"
   ]
  },
  {
   "cell_type": "code",
   "execution_count": 2,
   "metadata": {},
   "outputs": [
    {
     "data": {
      "text/plain": [
       "<torch._C.Generator at 0x7f86013cd5b0>"
      ]
     },
     "execution_count": 2,
     "metadata": {},
     "output_type": "execute_result"
    }
   ],
   "source": [
    "torch.manual_seed(0)"
   ]
  },
  {
   "cell_type": "code",
   "execution_count": 3,
   "metadata": {},
   "outputs": [
    {
     "name": "stdout",
     "output_type": "stream",
     "text": [
      "device:  NVIDIA RTX A4000\n"
     ]
    }
   ],
   "source": [
    "if torch.cuda.is_available():               # check GPU availability\n",
    "    device = torch.device('cuda')\n",
    "    print('device: ', torch.cuda.get_device_name(0))\n",
    "else:\n",
    "    device = torch.device('cpu')"
   ]
  },
  {
   "cell_type": "markdown",
   "metadata": {},
   "source": [
    "## Simulation Parameters"
   ]
  },
  {
   "cell_type": "code",
   "execution_count": 4,
   "metadata": {},
   "outputs": [],
   "source": [
    "batch_size = 256\n",
    "nb_steps = 100\n",
    "lr = 2e-4\n",
    "epochs = 30\n",
    "root = 'datasets'"
   ]
  },
  {
   "cell_type": "markdown",
   "metadata": {},
   "source": [
    "## Training Data"
   ]
  },
  {
   "cell_type": "code",
   "execution_count": 5,
   "metadata": {},
   "outputs": [],
   "source": [
    "train_dataset = torchvision.datasets.FashionMNIST(root, train=True, transform=None, target_transform=None, download=True)\n",
    "test_dataset = torchvision.datasets.FashionMNIST(root, train=False, transform=None, target_transform=None, download=True)\n",
    "\n",
    "train_spks = SpikeDataset(train_dataset, num_steps=nb_steps)\n",
    "test_spks = SpikeDataset(test_dataset, num_steps=nb_steps)\n",
    "\n",
    "train_loader = DataLoader(train_spks, batch_size=batch_size, shuffle=True, drop_last=True)\n",
    "test_loader = DataLoader(test_spks, batch_size=batch_size, shuffle=True, drop_last=True)"
   ]
  },
  {
   "cell_type": "code",
   "execution_count": 6,
   "metadata": {},
   "outputs": [
    {
     "name": "stderr",
     "output_type": "stream",
     "text": [
      "/home/p302242/github/csnn/Analog2SpikesTransforms.py:95: UserWarning: Creating a tensor from a list of numpy.ndarrays is extremely slow. Please consider converting the list to a single numpy.ndarray with numpy.array() before converting to a tensor. (Triggered internally at /opt/conda/conda-bld/pytorch_1708025845868/work/torch/csrc/utils/tensor_new.cpp:275.)\n",
      "  indices = torch.tensor(coo_, dtype=torch.int64)                             # [[total time steps], [input gridcell x axis], [input gridcell y axis]]\n"
     ]
    }
   ],
   "source": [
    "sample = train_spks[1]\n",
    "x_ = sample[0]\n",
    "y_ = sample[1]\n",
    "\n",
    "x_ = np.array(x_.tolist())\n",
    "y_ = np.array(y_.tolist())\n",
    "\n",
    "#train_spks.plot_sample(idx=1, save=True)"
   ]
  },
  {
   "cell_type": "markdown",
   "metadata": {},
   "source": [
    "## Neuron Model"
   ]
  },
  {
   "cell_type": "code",
   "execution_count": 7,
   "metadata": {},
   "outputs": [],
   "source": [
    "from SurrogateGradient import SpkSurrogateGradFunction\n",
    "\n",
    "class LIFlayer(nn.Module):\n",
    "    def __init__(self, tau_mem=10e-3, tau_syn=5e-3, threshold=1.0, t_step=1e-3, output=False):\n",
    "        super().__init__()\n",
    "\n",
    "        self.tau_mem = tau_mem\n",
    "        self.tau_syn = tau_syn\n",
    "        self.threshold = threshold\n",
    "        self.t_step = t_step\n",
    "        self.output = output\n",
    "\n",
    "        self.beta = np.float64(np.exp(-self.t_step/self.tau_mem))\n",
    "        self.alpha = np.float64(np.exp(-self.t_step/self.tau_syn))\n",
    "\n",
    "        self.spike_fn = SpkSurrogateGradFunction.apply\n",
    "        \n",
    "        self.forwarded = False\n",
    "\n",
    "    def reset_mem(self):\n",
    "        self.forwarded = False\n",
    "    \n",
    "    def forward(self, x, k):\n",
    "\n",
    "        if not hasattr(self, 'mem') or not self.forwarded:\n",
    "            self.mem = torch.zeros_like(x, requires_grad=True)\n",
    "            self.syn = torch.zeros_like(x, requires_grad=True)\n",
    "            self.forwarded = True\n",
    "\n",
    "        spk = self.spike_fn(self.mem, self.threshold, k)\n",
    "        rst = spk.detach()\n",
    "\n",
    "        self.syn = self.alpha*self.syn + x\n",
    "        \n",
    "        if self.output:\n",
    "            self.mem = (self.beta*self.mem + self.syn)\n",
    "        else:\n",
    "            self.mem = (self.beta*self.mem + self.syn)*(1.0 - rst)\n",
    "\n",
    "        return spk, self.mem"
   ]
  },
  {
   "cell_type": "markdown",
   "metadata": {},
   "source": [
    "## Spiking FC Network"
   ]
  },
  {
   "cell_type": "code",
   "execution_count": 8,
   "metadata": {},
   "outputs": [],
   "source": [
    "class SFCN(nn.Module):\n",
    "    def __init__(self, nb_inputs: int, nb_hidden: int, nb_outputs: int, device):\n",
    "        super().__init__()\n",
    "\n",
    "        self.k = np.float64(100.0)\n",
    "\n",
    "        self.hiddenLIF = LIFlayer()\n",
    "        self.outLIF = LIFlayer(output=True)\n",
    "\n",
    "        self.weight_scale = 7*(1.0-self.hiddenLIF.beta)\n",
    "\n",
    "        self.w1 = torch.empty((nb_inputs, nb_hidden),  device=device, dtype=torch.float, requires_grad=True)\n",
    "        torch.nn.init.normal_(self.w1, mean=0.0, std=self.weight_scale/np.sqrt(nb_inputs))\n",
    "\n",
    "        self.w2 = torch.empty((nb_hidden, nb_outputs), device=device, dtype=torch.float, requires_grad=True)\n",
    "        torch.nn.init.normal_(self.w2, mean=0.0, std=self.weight_scale/np.sqrt(nb_hidden))\n",
    "\n",
    "    def forward(self, x):\n",
    "        batch_size = x.size(0)\n",
    "        flat_inp = x.view(batch_size, -1)\n",
    "\n",
    "        inp_h = torch.einsum('ij,jk->ik', (flat_inp, self.w1))\n",
    "        out2, mem2 = self.hiddenLIF(inp_h, self.k)\n",
    "\n",
    "        inp_out = torch.einsum('ij,jk->ik', (out2, self.w2))\n",
    "        out3, mem3 = self.outLIF(inp_out, self.k)\n",
    "\n",
    "        return out3, mem3\n",
    "    \n",
    "    def reset_states(self):\n",
    "        self.hiddenLIF.reset_mem()\n",
    "        self.outLIF.reset_mem()\n",
    "    \n",
    "    @staticmethod\n",
    "    def model_forward(model, data, nb_steps):\n",
    "        spk_out_all = []\n",
    "        mem_out_all = []\n",
    "        model.reset_states()\n",
    "\n",
    "        for step in range(nb_steps):\n",
    "            spk_out, mem_out = model.forward(data[:, step, :, :])\n",
    "\n",
    "            spk_out_all.append(spk_out)\n",
    "            mem_out_all.append(mem_out)\n",
    "\n",
    "        return torch.stack(spk_out_all, dim=1), torch.stack(mem_out_all, dim=1)"
   ]
  },
  {
   "cell_type": "code",
   "execution_count": 9,
   "metadata": {},
   "outputs": [],
   "source": [
    "model = SFCN(28*28, 100, 10, device)"
   ]
  },
  {
   "cell_type": "markdown",
   "metadata": {},
   "source": [
    "## Optimizer & Loss"
   ]
  },
  {
   "cell_type": "code",
   "execution_count": 10,
   "metadata": {},
   "outputs": [],
   "source": [
    "params = [model.w1, model.w2]\n",
    "optimizer = torch.optim.Adam(params, lr=lr, betas=(0.9,0.999))"
   ]
  },
  {
   "cell_type": "code",
   "execution_count": 11,
   "metadata": {},
   "outputs": [],
   "source": [
    "log_softmax_fn = nn.LogSoftmax(dim=1)\n",
    "loss_fn = nn.NLLLoss()"
   ]
  },
  {
   "cell_type": "markdown",
   "metadata": {},
   "source": [
    "## Training Loop"
   ]
  },
  {
   "cell_type": "code",
   "execution_count": 12,
   "metadata": {},
   "outputs": [
    {
     "name": "stdout",
     "output_type": "stream",
     "text": [
      "Epoch 1: loss=1.07983\n",
      "Epoch 2: loss=0.68894\n",
      "Epoch 3: loss=0.63150\n",
      "Epoch 4: loss=0.59991\n",
      "Epoch 5: loss=0.57666\n",
      "Epoch 6: loss=0.55355\n",
      "Epoch 7: loss=0.53616\n",
      "Epoch 8: loss=0.52672\n",
      "Epoch 9: loss=0.51930\n",
      "Epoch 10: loss=0.50689\n",
      "Epoch 11: loss=0.50054\n",
      "Epoch 12: loss=0.49785\n",
      "Epoch 13: loss=0.49335\n",
      "Epoch 14: loss=0.48547\n",
      "Epoch 15: loss=0.48351\n",
      "Epoch 16: loss=0.47628\n",
      "Epoch 17: loss=0.47449\n",
      "Epoch 18: loss=0.46657\n",
      "Epoch 19: loss=0.46377\n",
      "Epoch 20: loss=0.46022\n",
      "Epoch 21: loss=0.45785\n",
      "Epoch 22: loss=0.45478\n",
      "Epoch 23: loss=0.45509\n",
      "Epoch 24: loss=0.45610\n",
      "Epoch 25: loss=0.45498\n",
      "Epoch 26: loss=0.45045\n",
      "Epoch 27: loss=0.44520\n",
      "Epoch 28: loss=0.44336\n",
      "Epoch 29: loss=0.43601\n",
      "Epoch 30: loss=0.43530\n"
     ]
    }
   ],
   "source": [
    "loss_hist = []\n",
    "model.train()\n",
    "\n",
    "for e in range(epochs):\n",
    "    local_loss = []\n",
    "    \n",
    "    for data, targets in iter(train_loader):\n",
    "        data = data.to(device)\n",
    "        targets = targets.to(device)\n",
    "\n",
    "        # forward pass\n",
    "        out_spks, out_mems = SFCN.model_forward(model, data, nb_steps)\n",
    "        m, _ = torch.max(out_mems, 1)\n",
    "        log_p_y = log_softmax_fn(m)\n",
    "\n",
    "        # initialize the loss & sum over time\n",
    "        loss_val = loss_fn(log_p_y, targets.long())\n",
    "\n",
    "        # gradient calculation + weight update\n",
    "        optimizer.zero_grad()\n",
    "        loss_val.backward()\n",
    "        optimizer.step()\n",
    "\n",
    "        local_loss.append(loss_val.item())\n",
    "    \n",
    "    mean_loss = np.mean(local_loss)\n",
    "    print(\"Epoch %i: loss=%.5f\"%(e+1,mean_loss))\n",
    "    loss_hist.append(mean_loss)"
   ]
  },
  {
   "cell_type": "code",
   "execution_count": 13,
   "metadata": {},
   "outputs": [
    {
     "data": {
      "image/png": "[encoded data removed]",
      "text/plain": [
       "<Figure size 495x300 with 1 Axes>"
      ]
     },
     "metadata": {},
     "output_type": "display_data"
    }
   ],
   "source": [
    "plt.figure(figsize=(3.3,2),dpi=150)\n",
    "plt.plot(loss_hist)\n",
    "plt.xlabel(\"Epoch\")\n",
    "plt.ylabel(\"Loss\")\n",
    "plt.show()"
   ]
  },
  {
   "cell_type": "markdown",
   "metadata": {},
   "source": [
    "## Accuracy"
   ]
  },
  {
   "cell_type": "code",
   "execution_count": 14,
   "metadata": {},
   "outputs": [
    {
     "name": "stdout",
     "output_type": "stream",
     "text": [
      "test accuracy: 0.8308293269230769\n"
     ]
    }
   ],
   "source": [
    "accs = []\n",
    "with torch.no_grad():\n",
    "    total = 0\n",
    "    correct = 0\n",
    "    model.eval()\n",
    "\n",
    "    test_loader = iter(test_loader)\n",
    "\n",
    "    for data, targets in test_loader:\n",
    "        data = data.to(device)\n",
    "        targets = targets.to(device)\n",
    "\n",
    "        out_spks, out_mems = SFCN.model_forward(model, data, nb_steps)\n",
    "\n",
    "        m,_= torch.max(out_mems,1) # max over time\n",
    "        _,am=torch.max(m,1)      # argmax over output units\n",
    "        tmp = np.mean((targets==am).detach().cpu().numpy()) # compare to labels\n",
    "        accs.append(tmp)\n",
    "\n",
    "mean_acc = np.mean(accs)\n",
    "print(f'test accuracy: {mean_acc}')"
   ]
  },
  {
   "cell_type": "code",
   "execution_count": 15,
   "metadata": {},
   "outputs": [
    {
     "name": "stdout",
     "output_type": "stream",
     "text": [
      "train accuracy: 0.8474559294871795\n"
     ]
    }
   ],
   "source": [
    "accs = []\n",
    "with torch.no_grad():\n",
    "    total = 0\n",
    "    correct = 0\n",
    "    model.eval()\n",
    "\n",
    "    train_loader = iter(train_loader)\n",
    "\n",
    "    for data, targets in train_loader:\n",
    "        data = data.to(device)\n",
    "        targets = targets.to(device)\n",
    "\n",
    "        out_spks, out_mems = SFCN.model_forward(model, data, nb_steps)\n",
    "\n",
    "        m,_= torch.max(out_mems,1) # max over time\n",
    "        _,am=torch.max(m,1)      # argmax over output units\n",
    "        tmp = np.mean((targets==am).detach().cpu().numpy()) # compare to labels\n",
    "        accs.append(tmp)\n",
    "\n",
    "mean_acc = np.mean(accs)\n",
    "print(f'train accuracy: {mean_acc}')"
   ]
  }
 ],
 "metadata": {
  "kernelspec": {
   "display_name": "csnn",
   "language": "python",
   "name": "python3"
  },
  "language_info": {
   "codemirror_mode": {
    "name": "ipython",
    "version": 3
   },
   "file_extension": ".py",
   "mimetype": "text/x-python",
   "name": "python",
   "nbconvert_exporter": "python",
   "pygments_lexer": "ipython3",
   "version": "3.11.3"
  }
 },
 "nbformat": 4,
 "nbformat_minor": 2
}
