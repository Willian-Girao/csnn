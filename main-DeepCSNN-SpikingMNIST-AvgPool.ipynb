{
 "cells": [
  {
   "cell_type": "markdown",
   "metadata": {},
   "source": [
    "### Imports"
   ]
  },
  {
   "cell_type": "code",
   "execution_count": 1,
   "metadata": {},
   "outputs": [],
   "source": [
    "import matplotlib.pyplot as plt\n",
    "\n",
    "from snntorch import functional as SF\n",
    "\n",
    "import torch, torchvision\n",
    "\n",
    "from Analog2SpikeDataset import SpikeDataset\n",
    "from torch.utils.data import DataLoader\n",
    "\n",
    "import torch.nn as nn\n",
    "from LIF import LIFlayer"
   ]
  },
  {
   "cell_type": "code",
   "execution_count": 2,
   "metadata": {},
   "outputs": [
    {
     "name": "stdout",
     "output_type": "stream",
     "text": [
      "device:  NVIDIA RTX A4000\n"
     ]
    }
   ],
   "source": [
    "if torch.cuda.is_available():               # check GPU availability\n",
    "    device = torch.device('cuda')\n",
    "    print('device: ', torch.cuda.get_device_name(0))\n",
    "else:\n",
    "    device = torch.device('cpu')"
   ]
  },
  {
   "cell_type": "code",
   "execution_count": 3,
   "metadata": {},
   "outputs": [
    {
     "data": {
      "text/plain": [
       "<torch._C.Generator at 0x7f95976c39f0>"
      ]
     },
     "execution_count": 3,
     "metadata": {},
     "output_type": "execute_result"
    }
   ],
   "source": [
    "batch_size = 32\n",
    "num_steps = 50\n",
    "num_epochs = 20\n",
    "root = 'datasets'\n",
    "\n",
    "torch.manual_seed(0)"
   ]
  },
  {
   "cell_type": "markdown",
   "metadata": {},
   "source": [
    "### Data Loading"
   ]
  },
  {
   "cell_type": "code",
   "execution_count": 4,
   "metadata": {},
   "outputs": [],
   "source": [
    "train_dataset = torchvision.datasets.MNIST(root, train=True, transform=None, target_transform=None, download=True)\n",
    "test_dataset = torchvision.datasets.MNIST(root, train=False, transform=None, target_transform=None, download=True)\n",
    "\n",
    "train_spks = SpikeDataset(train_dataset, num_steps=num_steps)\n",
    "test_spks = SpikeDataset(test_dataset, num_steps=num_steps)\n",
    "\n",
    "train_loader = DataLoader(train_spks, batch_size=batch_size, shuffle=True, drop_last=True)\n",
    "test_loader = DataLoader(test_spks, batch_size=batch_size, shuffle=True, drop_last=True)"
   ]
  },
  {
   "cell_type": "markdown",
   "metadata": {},
   "source": [
    "### Spiking Conv. Block"
   ]
  },
  {
   "cell_type": "code",
   "execution_count": 5,
   "metadata": {},
   "outputs": [],
   "source": [
    "class ConvBlock(nn.Module):\n",
    "    def __init__(self, in_channels, out_channels, kernel_size, input_size, stride=1, padding=1, spk_threshold=1, k=25.0):\n",
    "        super().__init__()\n",
    "\n",
    "        self.in_channels = in_channels\n",
    "        self.out_channels = out_channels\n",
    "        self.kernel_size = kernel_size\n",
    "        self.stride = stride\n",
    "        self.padding = padding\n",
    "        self.spk_threshold = spk_threshold\n",
    "        self.input_size = input_size\n",
    "        self.k = k\n",
    "\n",
    "        self.conv1 = nn.Conv2d(self.in_channels, self.out_channels, kernel_size=self.kernel_size, stride=self.stride, padding=self.padding)\n",
    "        self.lif1 = LIFlayer(threshold=self.spk_threshold)\n",
    "        \n",
    "        self.conv2 = nn.Conv2d(self.out_channels, self.out_channels, kernel_size=self.kernel_size, stride=1, padding=0)\n",
    "        self.lif2 = LIFlayer(threshold=self.spk_threshold)\n",
    "\n",
    "    def forward(self, x):\n",
    "        out = self.conv1(x)\n",
    "        out = self.lif1(out, self.k)\n",
    "        out = self.conv2(out)\n",
    "        spk2 = self.lif2(out, self.k)\n",
    "\n",
    "        return spk2\n",
    "        \n",
    "    def output_size(self):\n",
    "        conv1_os = [(size + 2 * self.padding - self.kernel_size) // self.stride + 1 for size in self.input_size]\n",
    "        conv2_os = [(size + 2 * 0 - self.kernel_size) // 1 + 1 for size in conv1_os]\n",
    "        return conv2_os\n",
    "    \n",
    "    def reset_mems(self):\n",
    "        self.lif1.reset_mem()\n",
    "        self.lif2.reset_mem()"
   ]
  },
  {
   "cell_type": "markdown",
   "metadata": {},
   "source": [
    "### Deep Conv. Spiking Model (Avg. Pooling)"
   ]
  },
  {
   "cell_type": "code",
   "execution_count": 6,
   "metadata": {},
   "outputs": [],
   "source": [
    "class DCSNN(nn.Module):\n",
    "    def __init__(self, input_size: tuple, batch_size=128, spk_threshold=1.0, k=25.0):\n",
    "        super().__init__()\n",
    "\n",
    "        self.k = k                      # slope of the surrogate gradient function\n",
    "        self.batch_size = batch_size\n",
    "\n",
    "        self.conv1 = nn.Conv2d(in_channels=1, out_channels=12, kernel_size=2, stride=1, padding=1)\n",
    "        self.lif1 = LIFlayer(threshold=spk_threshold)\n",
    "        self.avgpool1 = nn.AvgPool2d(kernel_size=2, stride=1)\n",
    "        os1 = DCSNN.convpool_output_size(input_size=input_size, conv_st=1, conv_pd=1, conv_ks=2, poo_ks=2, poo_st=1)\n",
    "\n",
    "        self.convblk1 = ConvBlock(12, 12, 2, os1)\n",
    "        os2 = self.convblk1.output_size()\n",
    "\n",
    "        self.convblk2a = ConvBlock(12, 24, 2, os2, stride=2)\n",
    "        os3a = self.convblk2a.output_size()\n",
    "    \n",
    "        self.convblk2b = ConvBlock(24, 24, 2, os3a)\n",
    "        os3b = self.convblk2b.output_size()\n",
    "\n",
    "        self.convblk3a = ConvBlock(24, 48, 2, os3b, stride=2)\n",
    "        os4a = self.convblk3a.output_size()\n",
    "\n",
    "        self.convblk3b = ConvBlock(48, 48, 2, os4a)\n",
    "        os4b = self.convblk3b.output_size()\n",
    "\n",
    "        self.avgpool2 = nn.AvgPool2d(kernel_size=2, stride=1)\n",
    "        os5 = DCSNN.pool_output_size(os4b, poo_ks=2, poo_st=1)\n",
    "\n",
    "        self.flatten = nn.Flatten()\n",
    "        self.fc = nn.Linear(48*os5[0]*os5[1], 10)\n",
    "        self.lif2 = LIFlayer(threshold=spk_threshold, output=True)\n",
    "\n",
    "        print(f'> os1: {os1}')\n",
    "        print(f'> os2: {os2}')\n",
    "        print(f'> os3a: {os3a}')\n",
    "        print(f'> os3b: {os3b}')\n",
    "        print(f'> os4a: {os4a}')\n",
    "        print(f'> os4b: {os4b}')\n",
    "        print(f'> os5: {os5} ({48*os5[0]*os5[1]})')\n",
    "\n",
    "    def reset_states(self):\n",
    "        self.lif1.reset_mem()\n",
    "        self.lif2.reset_mem()\n",
    "        self.convblk1.reset_mems()\n",
    "        self.convblk2a.reset_mems()\n",
    "        self.convblk2b.reset_mems()\n",
    "        self.convblk3a.reset_mems()\n",
    "        self.convblk3b.reset_mems()\n",
    "\n",
    "    def forward(self, x):\n",
    "        out = self.conv1(x)\n",
    "        out = self.lif1(out, self.k)\n",
    "        out = self.avgpool1(out)\n",
    "\n",
    "        out = self.convblk1(out)\n",
    "        out = self.convblk2a(out)\n",
    "        out = self.convblk2b(out)\n",
    "        out = self.convblk3a(out)\n",
    "        out = self.convblk3b(out)\n",
    "\n",
    "        out = self.avgpool2(out)\n",
    "        out = self.flatten(out)\n",
    "        out = self.fc(out)\n",
    "        spk, mem = self.lif2(out, self.k)\n",
    "\n",
    "        return spk, mem\n",
    "\n",
    "    @staticmethod\n",
    "    def forward_pass_spikes(model, data, num_steps):\n",
    "        mem_rec = []\n",
    "        spk_rec = []\n",
    "        model.reset_states()\n",
    "\n",
    "        for step in range(num_steps):\n",
    "            spk_out, mem_out = model.forward(data[:, step:step+1, :, :])\n",
    "\n",
    "            spk_rec.append(spk_out)\n",
    "            mem_rec.append(mem_out)\n",
    "\n",
    "        return torch.stack(spk_rec), torch.stack(mem_rec)\n",
    "\n",
    "    @staticmethod\n",
    "    def convpool_output_size(input_size, conv_st, conv_pd, conv_ks, poo_ks, poo_st):\n",
    "        conv_output_size = [(size + 2 * conv_pd - conv_ks) // conv_st + 1 for size in input_size]\n",
    "        pool_output_size = [(size - poo_ks) // poo_st + 1 for size in conv_output_size]\n",
    "        return pool_output_size\n",
    "    \n",
    "    @staticmethod\n",
    "    def pool_output_size(input_size, poo_ks, poo_st):\n",
    "        return [(size - poo_ks) // poo_st + 1 for size in input_size]"
   ]
  },
  {
   "cell_type": "code",
   "execution_count": 7,
   "metadata": {},
   "outputs": [
    {
     "name": "stdout",
     "output_type": "stream",
     "text": [
      "> os1: [28, 28]\n",
      "> os2: [28, 28]\n",
      "> os3a: [14, 14]\n",
      "> os3b: [14, 14]\n",
      "> os4a: [7, 7]\n",
      "> os4b: [7, 7]\n",
      "> os5: [6, 6] (1728)\n"
     ]
    }
   ],
   "source": [
    "model = DCSNN(input_size=(28,28), batch_size=batch_size, spk_threshold=1.0).to(device)"
   ]
  },
  {
   "cell_type": "markdown",
   "metadata": {},
   "source": [
    "### Loss and Optimizer"
   ]
  },
  {
   "cell_type": "code",
   "execution_count": 8,
   "metadata": {},
   "outputs": [],
   "source": [
    "loss_fn = SF.ce_rate_loss()\n",
    "optimizer = torch.optim.Adam(model.parameters(), lr=1e-3, betas=(0.9, 0.999))"
   ]
  },
  {
   "cell_type": "markdown",
   "metadata": {},
   "source": [
    "### Training the model"
   ]
  },
  {
   "cell_type": "code",
   "execution_count": 9,
   "metadata": {},
   "outputs": [],
   "source": [
    "def batch_accuracy(model, data_loader, device, num_steps):\n",
    "    ''' Returns the accuracy on the entire DataLoader object. '''\n",
    "    with torch.no_grad():\n",
    "        total = 0\n",
    "        acc = 0\n",
    "        model.eval()\n",
    "\n",
    "        data_loader = iter(data_loader)\n",
    "        for data, targets in data_loader:\n",
    "            data = data.to(device)\n",
    "            targets = targets.to(device)\n",
    "            spk_rec, _ = DCSNN.forward_pass_spikes(model, data, num_steps)\n",
    "\n",
    "            acc += SF.accuracy_rate(spk_rec, targets) * spk_rec.size(1)\n",
    "            total += spk_rec.size(1)\n",
    "\n",
    "    return acc/total"
   ]
  },
  {
   "cell_type": "code",
   "execution_count": 10,
   "metadata": {},
   "outputs": [
    {
     "name": "stderr",
     "output_type": "stream",
     "text": [
      "/home/p302242/github/csnn/Analog2SpikesTransforms.py:95: UserWarning: Creating a tensor from a list of numpy.ndarrays is extremely slow. Please consider converting the list to a single numpy.ndarray with numpy.array() before converting to a tensor. (Triggered internally at /opt/conda/conda-bld/pytorch_1708025845868/work/torch/csrc/utils/tensor_new.cpp:275.)\n",
      "  indices = torch.tensor(coo_, dtype=torch.int64)                             # [[total time steps], [input gridcell x axis], [input gridcell y axis]]\n"
     ]
    },
    {
     "name": "stdout",
     "output_type": "stream",
     "text": [
      "epoch: 0, loss: 2.302583694458008, test accu.: 0.09815705128205128\n",
      "epoch: 1, loss: 2.302583694458008, test accu.: 0.09795673076923077\n",
      "epoch: 2, loss: 2.302583694458008, test accu.: 0.09805689102564102\n",
      "epoch: 3, loss: 2.302583694458008, test accu.: 0.09805689102564102\n",
      "epoch: 4, loss: 2.3048411188761393, test accu.: 0.11328125\n",
      "epoch: 5, loss: 2.307277353922526, test accu.: 0.11358173076923077\n",
      "epoch: 6, loss: 2.309834774017334, test accu.: 0.11358173076923077\n",
      "epoch: 7, loss: 2.3099213923136395, test accu.: 0.11358173076923077\n",
      "epoch: 8, loss: 2.3123823240915935, test accu.: 0.11338141025641026\n",
      "epoch: 9, loss: 2.3123542223612468, test accu.: 0.11348157051282051\n",
      "epoch: 10, loss: 2.312873504384359, test accu.: 0.11348157051282051\n",
      "epoch: 11, loss: 2.3125183553059894, test accu.: 0.11358173076923077\n",
      "epoch: 12, loss: 2.312793750635783, test accu.: 0.11338141025641026\n",
      "epoch: 13, loss: 2.312397746404012, test accu.: 0.11358173076923077\n",
      "epoch: 14, loss: 2.3122827997843425, test accu.: 0.11338141025641026\n",
      "epoch: 15, loss: 2.313129415130615, test accu.: 0.10276442307692307\n",
      "epoch: 16, loss: 2.3160316778818766, test accu.: 0.11368189102564102\n",
      "epoch: 17, loss: 2.3171569830576577, test accu.: 0.10096153846153846\n",
      "epoch: 18, loss: 2.3204956334431968, test accu.: 0.11368189102564102\n",
      "epoch: 19, loss: 2.321826908874512, test accu.: 0.09785657051282051\n"
     ]
    }
   ],
   "source": [
    "epochs = []\n",
    "losses = []\n",
    "accuracies = []\n",
    "\n",
    "for epoch in range(num_epochs):\n",
    "\n",
    "    epochs.append(epoch)\n",
    "    epochloss = 0\n",
    "    counter = 0\n",
    "\n",
    "    for data, targets in iter(train_loader):\n",
    "        data = data.to(device)\n",
    "        targets = targets.to(device)\n",
    "\n",
    "        # forward pass\n",
    "        model.train()\n",
    "        spk_rec, _ = DCSNN.forward_pass_spikes(model, data, num_steps)\n",
    "\n",
    "        # initialize the loss & sum over time\n",
    "        loss_val = loss_fn(spk_rec, targets.long())\n",
    "\n",
    "        # gradient calculation + weight update\n",
    "        optimizer.zero_grad()\n",
    "        loss_val.backward()\n",
    "        optimizer.step()\n",
    "\n",
    "        epochloss += loss_val.item()\n",
    "        counter += 1\n",
    "    \n",
    "    epochloss = epochloss/counter\n",
    "    losses.append(epochloss)\n",
    "\n",
    "    with torch.no_grad():\n",
    "        model.eval()\n",
    "        test_acc = batch_accuracy(model, test_loader, device, num_steps)\n",
    "        accuracies.append(test_acc)\n",
    "\n",
    "    print(f'epoch: {epoch}, loss: {epochloss}, test accu.: {test_acc}')\n",
    "        "
   ]
  },
  {
   "cell_type": "markdown",
   "metadata": {},
   "source": [
    "### Plotting results"
   ]
  },
  {
   "cell_type": "code",
   "execution_count": 11,
   "metadata": {},
   "outputs": [
    {
     "data": {
      "image/png": "[encoded data removed]",
      "text/plain": [
       "<Figure size 640x480 with 1 Axes>"
      ]
     },
     "metadata": {},
     "output_type": "display_data"
    }
   ],
   "source": [
    "plt.plot(epochs, losses, '-o')\n",
    "plt.ylabel('loss')\n",
    "plt.xlabel('epoch')\n",
    "plt.show()"
   ]
  },
  {
   "cell_type": "code",
   "execution_count": 12,
   "metadata": {},
   "outputs": [
    {
     "data": {
      "image/png": "[encoded data removed]",
      "text/plain": [
       "<Figure size 640x480 with 1 Axes>"
      ]
     },
     "metadata": {},
     "output_type": "display_data"
    }
   ],
   "source": [
    "plt.plot(epochs, accuracies, '-o')\n",
    "plt.ylabel('accuracy')\n",
    "plt.xlabel('epoch')\n",
    "plt.show()"
   ]
  }
 ],
 "metadata": {
  "kernelspec": {
   "display_name": "csnn",
   "language": "python",
   "name": "python3"
  },
  "language_info": {
   "codemirror_mode": {
    "name": "ipython",
    "version": 3
   },
   "file_extension": ".py",
   "mimetype": "text/x-python",
   "name": "python",
   "nbconvert_exporter": "python",
   "pygments_lexer": "ipython3",
   "version": "3.11.3"
  }
 },
 "nbformat": 4,
 "nbformat_minor": 2
}
