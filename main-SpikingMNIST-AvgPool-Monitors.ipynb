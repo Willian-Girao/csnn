{
 "cells": [
  {
   "cell_type": "markdown",
   "metadata": {},
   "source": [
    "### Imports"
   ]
  },
  {
   "cell_type": "code",
   "execution_count": 15,
   "metadata": {},
   "outputs": [],
   "source": [
    "import numpy as np\n",
    "import matplotlib.pyplot as plt\n",
    "\n",
    "from snntorch import functional as SF\n",
    "\n",
    "import torch, torchvision, os, time\n",
    "\n",
    "from Analog2SpikeDataset import SpikeDataset\n",
    "from torch.utils.data import DataLoader\n",
    "\n",
    "from utils import create_results_dir\n",
    "from LIF import LIFlayer\n",
    "import torch.nn as nn\n",
    "\n",
    "from Monitors import SpikeMonitor, StateMonitor"
   ]
  },
  {
   "cell_type": "code",
   "execution_count": 16,
   "metadata": {},
   "outputs": [],
   "source": [
    "if torch.cuda.is_available():               # check GPU availability\n",
    "    device = torch.device('cuda')\n",
    "    print('device: ', torch.cuda.get_device_name(0))\n",
    "else:\n",
    "    device = torch.device('cpu')"
   ]
  },
  {
   "cell_type": "code",
   "execution_count": 17,
   "metadata": {},
   "outputs": [],
   "source": [
    "batch_size = 64\n",
    "num_steps = 50\n",
    "spk_thr = 0.35\n",
    "num_epochs = 20\n",
    "lr = 1e-3\n",
    "root = 'datasets'"
   ]
  },
  {
   "cell_type": "code",
   "execution_count": 18,
   "metadata": {},
   "outputs": [],
   "source": [
    "model_path = create_results_dir()"
   ]
  },
  {
   "cell_type": "markdown",
   "metadata": {},
   "source": [
    "### Data Loading"
   ]
  },
  {
   "cell_type": "code",
   "execution_count": 19,
   "metadata": {},
   "outputs": [],
   "source": [
    "train_dataset = torchvision.datasets.MNIST(root, train=True, transform=None, target_transform=None, download=True)\n",
    "test_dataset = torchvision.datasets.MNIST(root, train=False, transform=None, target_transform=None, download=True)\n",
    "\n",
    "train_spks = SpikeDataset(train_dataset, num_steps=num_steps)\n",
    "test_spks = SpikeDataset(test_dataset, num_steps=num_steps)\n",
    "\n",
    "train_loader = DataLoader(train_spks, batch_size=batch_size, shuffle=True, drop_last=True)\n",
    "test_loader = DataLoader(test_spks, batch_size=batch_size, shuffle=True, drop_last=True)"
   ]
  },
  {
   "cell_type": "markdown",
   "metadata": {},
   "source": [
    "### Conv. SNN Model (Avg. Pooling)"
   ]
  },
  {
   "cell_type": "code",
   "execution_count": 20,
   "metadata": {},
   "outputs": [],
   "source": [
    "class CSNN(nn.Module):\n",
    "    def __init__(self, input_size: tuple, batch_size=128, spk_threshold=1.0, k=25.0):\n",
    "        super().__init__()\n",
    "\n",
    "        self.k = k                      # slope of the surrogate gradient function\n",
    "        self.batch_size = batch_size\n",
    "\n",
    "        self.conv1 = nn.Conv2d(in_channels=1, out_channels=1, kernel_size=2, stride=1, padding=0, bias=False)\n",
    "        self.lif1 = LIFlayer(threshold=spk_threshold)\n",
    "        self.avgpool1 = nn.AvgPool2d(kernel_size=2, stride=1)\n",
    "\n",
    "        self.conv2 = nn.Conv2d(in_channels=1, out_channels=1, kernel_size=2, stride=1, padding=0, bias=False)\n",
    "        self.lif2 = LIFlayer(threshold=spk_threshold)\n",
    "        self.avgpool2 = nn.AvgPool2d(kernel_size=2, stride=1)\n",
    "\n",
    "        conv1_os = CSNN.conv_output_size(input_size=input_size, conv_st=1, conv_pd=0, conv_ks=2, poo_ks=2, poo_st=1)\n",
    "        conv2_os = CSNN.conv_output_size(input_size=conv1_os, conv_st=1, conv_pd=0, conv_ks=2, poo_ks=2, poo_st=1)\n",
    "        self.fc_input_size = 1*conv2_os[0]*conv2_os[1]\n",
    "\n",
    "        self.fc1 = nn.Linear(self.fc_input_size, 10, bias=False)\n",
    "        self.lif3 = LIFlayer(threshold=spk_threshold)\n",
    "\n",
    "    def reset_states(self):\n",
    "        \"\"\" Access all LIF layers and reset membrane state tensors. \"\"\"\n",
    "        self.lif1.reset_mem()\n",
    "        self.lif2.reset_mem()\n",
    "        self.lif3.reset_mem()\n",
    "\n",
    "    def forward(self, x):\n",
    "        \"\"\" Forward pass on input tensor(s). \"\"\"\n",
    "\n",
    "        out = self.conv1(x)\n",
    "        spk1, mem1 = self.lif1(out, self.k)\n",
    "        out1 = self.avgpool1(spk1)\n",
    "\n",
    "        out2 = self.conv2(out1)\n",
    "        spk2, mem2 = self.lif2(out2, self.k)\n",
    "        out2 = self.avgpool2(spk2)\n",
    "\n",
    "        out3 = out2.view(self.batch_size, -1)\n",
    "\n",
    "        out3 = self.fc1(out3)\n",
    "        spk3, mem3 = self.lif3(out3, self.k)\n",
    "\n",
    "        return spk1, mem1, spk2, mem2, spk3, mem3\n",
    "    \n",
    "    @staticmethod\n",
    "    def forward_pass_static(net, data, num_steps=100):\n",
    "        \"\"\" Same input fed at every time step. \"\"\"\n",
    "        mem_out_rec = []\n",
    "        spk_out_rec = []\n",
    "        spk_1_rec = []\n",
    "        mem_1_rec = []\n",
    "        spk_2_rec = []\n",
    "        mem_2_rec = []\n",
    "\n",
    "        net.reset_states()                                 # resets hidden states for all LIF neurons in net\n",
    "\n",
    "        for step in range(num_steps):\n",
    "            spk1, mem1, spk2, mem2, spk_out, mem_out = net.forward(data)\n",
    "            spk_out_rec.append(spk_out)\n",
    "            mem_out_rec.append(mem_out)\n",
    "\n",
    "            spk_1_rec.append(spk1)\n",
    "            mem_1_rec.append(mem1)\n",
    "            spk_2_rec.append(spk2)\n",
    "            mem_2_rec.append(mem2)\n",
    "\n",
    "        return torch.stack(spk_1_rec), torch.stack(mem_1_rec), \\\n",
    "            torch.stack(spk_2_rec), torch.stack(mem_2_rec), \\\n",
    "                torch.stack(spk_out_rec), torch.stack(mem_out_rec)\n",
    "    \n",
    "    @staticmethod\n",
    "    def forward_pass_spikes(net, data, num_steps):\n",
    "        \"\"\" Input has different values for different time steps. \"\"\"\n",
    "        mem_out_rec = []\n",
    "        spk_out_rec = []\n",
    "        spk_1_rec = []\n",
    "        mem_1_rec = []\n",
    "        spk_2_rec = []\n",
    "        mem_2_rec = []\n",
    "        net.reset_states()                                              # resets hidden states for all LIF neurons in net\n",
    "\n",
    "        for step in range(num_steps):\n",
    "            spk1, mem1, spk2, mem2, spk_out, mem_out = net.forward(data[:, step:step+1, :, :])  # feed each time step sequentially\n",
    "\n",
    "            spk_out_rec.append(spk_out)\n",
    "            mem_out_rec.append(mem_out)\n",
    "\n",
    "            spk_1_rec.append(spk1)\n",
    "            mem_1_rec.append(mem1)\n",
    "            spk_2_rec.append(spk2)\n",
    "            mem_2_rec.append(mem2)\n",
    "\n",
    "        return torch.stack(spk_1_rec), torch.stack(mem_1_rec), \\\n",
    "            torch.stack(spk_2_rec), torch.stack(mem_2_rec), \\\n",
    "                torch.stack(spk_out_rec), torch.stack(mem_out_rec)\n",
    "\n",
    "    @staticmethod\n",
    "    def conv_output_size(input_size, conv_st, conv_pd, conv_ks, poo_ks, poo_st):\n",
    "        \"\"\" Calculate the output size after convolutional and max pooling layers. \"\"\"\n",
    "        conv_output_size = [(size + 2 * conv_pd - conv_ks) // conv_st + 1 for size in input_size]   # xonvolution with padding=1 and stride=1\n",
    "        pool_output_size = [(size - poo_ks) // poo_st + 1 for size in conv_output_size]             # max pooling with size=2 and stride=1\n",
    "        return pool_output_size"
   ]
  },
  {
   "cell_type": "code",
   "execution_count": 21,
   "metadata": {},
   "outputs": [],
   "source": [
    "model = CSNN(input_size=(28,28), batch_size=batch_size, spk_threshold=spk_thr).to(device)"
   ]
  },
  {
   "cell_type": "markdown",
   "metadata": {},
   "source": [
    "### Loss and Optimizer"
   ]
  },
  {
   "cell_type": "code",
   "execution_count": 22,
   "metadata": {},
   "outputs": [],
   "source": [
    "loss_fn = SF.ce_rate_loss()\n",
    "optimizer = torch.optim.Adam(model.parameters(), lr=lr, betas=(0.9, 0.999))"
   ]
  },
  {
   "cell_type": "markdown",
   "metadata": {},
   "source": [
    "### Training the model"
   ]
  },
  {
   "cell_type": "code",
   "execution_count": 23,
   "metadata": {},
   "outputs": [],
   "source": [
    "def batch_accuracy(model, data_loader, device, num_steps):\n",
    "    ''' Returns the accuracy on the entire DataLoader object. '''\n",
    "    with torch.no_grad():\n",
    "        total = 0\n",
    "        acc = 0\n",
    "        model.eval()\n",
    "\n",
    "        data_loader = iter(data_loader)\n",
    "        for data, targets in data_loader:\n",
    "            data = data.to(device)\n",
    "            targets = targets.to(device)\n",
    "            spk1, mem1, spk2, mem2, spk_out, mem_out = CSNN.forward_pass_spikes(model, data, num_steps)\n",
    "\n",
    "            acc += SF.accuracy_rate(spk_out, targets) * spk_out.size(1)\n",
    "            total += spk_out.size(1)\n",
    "\n",
    "    return acc/total"
   ]
  },
  {
   "cell_type": "code",
   "execution_count": 24,
   "metadata": {},
   "outputs": [
    {
     "name": "stdout",
     "output_type": "stream",
     "text": [
      "epoch: 0, loss: 2.302583694458008, test accu.: 0.0\n",
      "epoch: 1, loss: 2.302583694458008, test accu.: 0.0\n",
      "epoch: 2, loss: 2.302583694458008, test accu.: 0.0\n",
      "epoch: 3, loss: 2.302583694458008, test accu.: 0.0\n",
      "epoch: 4, loss: 2.302583694458008, test accu.: 0.0\n",
      "epoch: 5, loss: 2.302583694458008, test accu.: 0.0\n",
      "epoch: 6, loss: 2.302583694458008, test accu.: 0.0\n",
      "epoch: 7, loss: 2.302583694458008, test accu.: 0.0\n",
      "epoch: 8, loss: 2.302583694458008, test accu.: 0.0\n",
      "epoch: 9, loss: 2.302583694458008, test accu.: 0.0\n",
      "epoch: 10, loss: 2.302583694458008, test accu.: 0.0\n",
      "epoch: 11, loss: 2.302583694458008, test accu.: 0.0\n",
      "epoch: 12, loss: 2.302583694458008, test accu.: 0.0\n",
      "epoch: 13, loss: 2.302583694458008, test accu.: 0.0\n",
      "epoch: 14, loss: 2.302583694458008, test accu.: 0.0\n",
      "epoch: 15, loss: 2.302583694458008, test accu.: 0.0\n",
      "epoch: 16, loss: 2.302583694458008, test accu.: 0.0\n",
      "epoch: 17, loss: 2.302583694458008, test accu.: 0.0\n",
      "epoch: 18, loss: 2.302583694458008, test accu.: 0.0\n",
      "epoch: 19, loss: 2.302583694458008, test accu.: 0.0\n"
     ]
    }
   ],
   "source": [
    "epochs = []\n",
    "losses = []\n",
    "accuracies = []\n",
    "\n",
    "for epoch in range(num_epochs):\n",
    "\n",
    "    epochs.append(epoch)\n",
    "    epochloss = 0\n",
    "    counter = 0\n",
    "\n",
    "    for data, targets in iter(train_loader):\n",
    "        data = data.to(device)\n",
    "        targets = targets.to(device)\n",
    "\n",
    "        # forward pass\n",
    "        model.train()\n",
    "        spk1, mem1, spk2, mem2, spk_out, mem_out = CSNN.forward_pass_spikes(model, data, num_steps)\n",
    "\n",
    "        # initialize the loss & sum over time\n",
    "        loss_val = loss_fn(spk_out, targets.long())\n",
    "\n",
    "        # gradient calculation + weight update\n",
    "        optimizer.zero_grad()\n",
    "        loss_val.backward()\n",
    "        optimizer.step()\n",
    "\n",
    "        epochloss += loss_val.item()\n",
    "        counter += 1\n",
    "    \n",
    "    epochloss = epochloss/counter\n",
    "    losses.append(epochloss)\n",
    "\n",
    "    with torch.no_grad():\n",
    "        model.eval()\n",
    "        test_acc = batch_accuracy(model, test_loader, device, num_steps)\n",
    "        accuracies.append(test_acc)\n",
    "\n",
    "    print(f'epoch: {epoch}, loss: {epochloss}, test accu.: {test_acc}')"
   ]
  },
  {
   "cell_type": "markdown",
   "metadata": {},
   "source": [
    "### Plotting results"
   ]
  },
  {
   "cell_type": "code",
   "execution_count": 25,
   "metadata": {},
   "outputs": [
    {
     "data": {
      "image/png": "[encoded data removed]",
      "text/plain": [
       "<Figure size 640x480 with 1 Axes>"
      ]
     },
     "metadata": {},
     "output_type": "display_data"
    }
   ],
   "source": [
    "plt.plot(epochs, losses, '-o')\n",
    "plt.ylabel('loss')\n",
    "plt.xlabel('epoch')\n",
    "plt.show()"
   ]
  },
  {
   "cell_type": "code",
   "execution_count": 26,
   "metadata": {},
   "outputs": [
    {
     "data": {
      "image/png": "[encoded data removed]",
      "text/plain": [
       "<Figure size 640x480 with 1 Axes>"
      ]
     },
     "metadata": {},
     "output_type": "display_data"
    }
   ],
   "source": [
    "plt.plot(epochs, accuracies, '-o')\n",
    "plt.ylabel('accuracy')\n",
    "plt.xlabel('epoch')\n",
    "plt.show()"
   ]
  },
  {
   "cell_type": "markdown",
   "metadata": {},
   "source": [
    "### Seeing Network Activity"
   ]
  },
  {
   "cell_type": "code",
   "execution_count": 27,
   "metadata": {},
   "outputs": [
    {
     "name": "stdout",
     "output_type": "stream",
     "text": [
      "plottting...\n",
      "sampled-membranes_sampled_mem-SpkConv1_channel_0_sample_0.png\n",
      "layer-membranes_layer_mem-SpkConv1_channel_0_sample_0.gif\n"
     ]
    }
   ],
   "source": [
    "with torch.no_grad():\n",
    "    model.eval()\n",
    "    batch_counter = 0\n",
    "\n",
    "    print('plottting...')\n",
    "\n",
    "    for data, targets in iter(test_loader):\n",
    "        data = data.to(device)\n",
    "        targets = targets.to(device)\n",
    "\n",
    "        model.train()\n",
    "        spk1, mem1, spk2, mem2, spk_out, mem_out = CSNN.forward_pass_spikes(model, data, num_steps)\n",
    "\n",
    "        mem1_mon = StateMonitor(mem1, spk_thr, 'SpkConv1')\n",
    "        mem1_mon.sample_membranes(path=model_path)\n",
    "        mem1_mon.plot_layer(plot=True, path=model_path) \n",
    "\n",
    "        spk1_mon = SpikeMonitor(spk1, 'SpkConv1')\n",
    "        spk1_mon.plot_layer(plot=True, path=model_path)\n",
    "\n",
    "        mem2_mon = StateMonitor(mem2, spk_thr, 'SpkConv2')\n",
    "        mem2_mon.sample_membranes(path=model_path)\n",
    "        mem2_mon.plot_layer(plot=True, path=model_path) \n",
    "\n",
    "        spk2_mon = SpikeMonitor(spk2, 'SpkConv2')\n",
    "        spk2_mon.plot_layer(plot=True, path=model_path)"
   ]
  }
 ],
 "metadata": {
  "kernelspec": {
   "display_name": "csnn",
   "language": "python",
   "name": "python3"
  },
  "language_info": {
   "codemirror_mode": {
    "name": "ipython",
    "version": 3
   },
   "file_extension": ".py",
   "mimetype": "text/x-python",
   "name": "python",
   "nbconvert_exporter": "python",
   "pygments_lexer": "ipython3",
   "version": "3.11.3"
  }
 },
 "nbformat": 4,
 "nbformat_minor": 2
}
