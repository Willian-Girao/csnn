{
 "cells": [
  {
   "cell_type": "markdown",
   "metadata": {},
   "source": [
    "### Imports"
   ]
  },
  {
   "cell_type": "code",
   "execution_count": 1,
   "metadata": {},
   "outputs": [],
   "source": [
    "import numpy as np\n",
    "import matplotlib.pyplot as plt\n",
    "\n",
    "from snntorch import functional as SF\n",
    "\n",
    "import torch, torchvision, os, time\n",
    "\n",
    "from Analog2SpikeDataset import SpikeDataset\n",
    "from torch.utils.data import DataLoader\n",
    "\n",
    "import torch.nn as nn\n",
    "from LIF import LIFlayer\n",
    "\n",
    "from utils import create_results_dir"
   ]
  },
  {
   "cell_type": "code",
   "execution_count": 52,
   "metadata": {},
   "outputs": [
    {
     "name": "stdout",
     "output_type": "stream",
     "text": [
      "device:  NVIDIA RTX A4000\n"
     ]
    }
   ],
   "source": [
    "if torch.cuda.is_available():               # check GPU availability\n",
    "    device = torch.device('cuda')\n",
    "else:\n",
    "    device = torch.device('cpu')\n",
    "print('device: ', torch.cuda.get_device_name(0))"
   ]
  },
  {
   "cell_type": "code",
   "execution_count": 53,
   "metadata": {},
   "outputs": [],
   "source": [
    "batch_size = 32\n",
    "num_steps = 50\n",
    "root = 'datasets'"
   ]
  },
  {
   "cell_type": "markdown",
   "metadata": {},
   "source": [
    "### Data Loading"
   ]
  },
  {
   "cell_type": "code",
   "execution_count": 54,
   "metadata": {},
   "outputs": [],
   "source": [
    "train_dataset = torchvision.datasets.MNIST(root, train=True, transform=None, target_transform=None, download=True)\n",
    "test_dataset = torchvision.datasets.MNIST(root, train=False, transform=None, target_transform=None, download=True)\n",
    "\n",
    "train_spks = SpikeDataset(train_dataset, num_steps=num_steps)\n",
    "test_spks = SpikeDataset(test_dataset, num_steps=num_steps)\n",
    "\n",
    "train_loader = DataLoader(train_spks, batch_size=batch_size, shuffle=True, drop_last=True)\n",
    "test_loader = DataLoader(test_spks, batch_size=batch_size, shuffle=True, drop_last=True)"
   ]
  },
  {
   "cell_type": "markdown",
   "metadata": {},
   "source": [
    "### Conv. SNN Model (Avg. Pooling)"
   ]
  },
  {
   "cell_type": "code",
   "execution_count": 55,
   "metadata": {},
   "outputs": [],
   "source": [
    "class CSNN(nn.Module):\n",
    "    def __init__(self, input_size: tuple, batch_size=128, spk_threshold=1.0, k=25.0):\n",
    "        super().__init__()\n",
    "\n",
    "        self.k = k                      # slope of the surrogate gradient function\n",
    "        self.batch_size = batch_size\n",
    "\n",
    "        self.conv1 = nn.Conv2d(in_channels=1, out_channels=12, kernel_size=2, stride=1, padding=1)\n",
    "        self.lif1 = LIFlayer(threshold=spk_threshold)\n",
    "        self.avgpool1 = nn.AvgPool2d(kernel_size=2, stride=1)\n",
    "\n",
    "        self.conv2 = nn.Conv2d(in_channels=12, out_channels=64, kernel_size=2, stride=1, padding=1)\n",
    "        self.lif2 = LIFlayer(threshold=spk_threshold)\n",
    "        self.avgpool2 = nn.AvgPool2d(kernel_size=2, stride=1)\n",
    "\n",
    "        conv1_os = CSNN.conv_output_size(input_size=input_size, conv_st=1, conv_pd=1, conv_ks=2, poo_ks=2, poo_st=1)\n",
    "        conv2_os = CSNN.conv_output_size(input_size=conv1_os, conv_st=1, conv_pd=1, conv_ks=2, poo_ks=2, poo_st=1)\n",
    "        self.fc_input_size = 64*conv2_os[0]*conv2_os[1]\n",
    "\n",
    "        self.fc1 = nn.Linear(self.fc_input_size, 10)\n",
    "        self.lif3 = LIFlayer(output=True, threshold=spk_threshold)\n",
    "\n",
    "    def reset_states(self):\n",
    "        \"\"\" Access all LIF layers and reset membrane state tensors. \"\"\"\n",
    "        self.lif1.reset_mem()\n",
    "        self.lif2.reset_mem()\n",
    "        self.lif3.reset_mem()\n",
    "\n",
    "    def forward(self, x):\n",
    "        \"\"\" Forward pass on input tensor(s). \"\"\"\n",
    "\n",
    "        out = self.conv1(x)\n",
    "        out = self.lif1(out, self.k)\n",
    "        out = self.avgpool1(out)\n",
    "\n",
    "        out = self.conv2(out)\n",
    "        out = self.lif2(out, self.k)\n",
    "        out = self.avgpool2(out)\n",
    "\n",
    "        out = out.view(self.batch_size, -1)\n",
    "\n",
    "        out = self.fc1(out)\n",
    "        spk, mem = self.lif3(out, self.k)\n",
    "\n",
    "        return spk, mem\n",
    "    \n",
    "    @staticmethod\n",
    "    def forward_pass_static(net, data, num_steps=100):\n",
    "        \"\"\" Same input fed at every time step. \"\"\"\n",
    "        mem_rec = []\n",
    "        spk_rec = []\n",
    "        net.reset_states()                                 # resets hidden states for all LIF neurons in net\n",
    "\n",
    "        for step in range(num_steps):\n",
    "            spk_out, mem_out = net.forward(data)\n",
    "            spk_rec.append(spk_out)\n",
    "            mem_rec.append(mem_out)\n",
    "\n",
    "        return torch.stack(spk_rec), torch.stack(mem_rec)\n",
    "    \n",
    "    @staticmethod\n",
    "    def forward_pass_spikes(net, data, num_steps):\n",
    "        \"\"\" Input has different values for different time steps. \"\"\"\n",
    "        mem_rec = []\n",
    "        spk_rec = []\n",
    "        net.reset_states()                                              # resets hidden states for all LIF neurons in net\n",
    "\n",
    "        for step in range(num_steps):\n",
    "            spk_out, mem_out = net.forward(data[:, step:step+1, :, :])  # feed each time step sequentially\n",
    "\n",
    "            spk_rec.append(spk_out)\n",
    "            mem_rec.append(mem_out)\n",
    "\n",
    "        return torch.stack(spk_rec), torch.stack(mem_rec)\n",
    "\n",
    "    @staticmethod\n",
    "    def conv_output_size(input_size, conv_st, conv_pd, conv_ks, poo_ks, poo_st):\n",
    "        \"\"\" Calculate the output size after convolutional and max pooling layers. \"\"\"\n",
    "        conv_output_size = [(size + 2 * conv_pd - conv_ks) // conv_st + 1 for size in input_size]   # xonvolution with padding=1 and stride=1\n",
    "        pool_output_size = [(size - poo_ks) // poo_st + 1 for size in conv_output_size]             # max pooling with size=2 and stride=1\n",
    "        return pool_output_size"
   ]
  },
  {
   "cell_type": "code",
   "execution_count": 56,
   "metadata": {},
   "outputs": [],
   "source": [
    "model = CSNN(input_size=(28,28), batch_size=batch_size, spk_threshold=1.0).to(device)"
   ]
  },
  {
   "cell_type": "markdown",
   "metadata": {},
   "source": [
    "### Loss and Optimizer"
   ]
  },
  {
   "cell_type": "code",
   "execution_count": 57,
   "metadata": {},
   "outputs": [],
   "source": [
    "loss_fn = SF.ce_rate_loss()\n",
    "optimizer = torch.optim.Adam(model.parameters(), lr=1e-2, betas=(0.9, 0.999))\n",
    "num_epochs = 20"
   ]
  },
  {
   "cell_type": "markdown",
   "metadata": {},
   "source": [
    "### Training the model"
   ]
  },
  {
   "cell_type": "code",
   "execution_count": 58,
   "metadata": {},
   "outputs": [],
   "source": [
    "def batch_accuracy(model, data_loader, device, num_steps):\n",
    "    ''' Returns the accuracy on the entire DataLoader object. '''\n",
    "    with torch.no_grad():\n",
    "        total = 0\n",
    "        acc = 0\n",
    "        model.eval()\n",
    "\n",
    "        data_loader = iter(data_loader)\n",
    "        for data, targets in data_loader:\n",
    "            data = data.to(device)\n",
    "            targets = targets.to(device)\n",
    "            spk_rec, _ = CSNN.forward_pass_spikes(model, data, num_steps)\n",
    "\n",
    "            acc += SF.accuracy_rate(spk_rec, targets) * spk_rec.size(1)\n",
    "            total += spk_rec.size(1)\n",
    "\n",
    "    return acc/total"
   ]
  },
  {
   "cell_type": "code",
   "execution_count": 59,
   "metadata": {},
   "outputs": [
    {
     "name": "stdout",
     "output_type": "stream",
     "text": [
      "epoch: 0, loss: 2.3047488792419433, test accu.: 0.11358173076923077\n",
      "epoch: 1, loss: 2.3028887130737306, test accu.: 0.09805689102564102\n",
      "epoch: 2, loss: 2.3026026681264242, test accu.: 0.09805689102564102\n",
      "epoch: 3, loss: 2.3063045369466146, test accu.: 0.09815705128205128\n",
      "epoch: 4, loss: 2.3231573221842448, test accu.: 0.09795673076923077\n",
      "epoch: 5, loss: 2.305380747350057, test accu.: 0.20012019230769232\n",
      "epoch: 6, loss: 2.311562389882406, test accu.: 0.20142227564102563\n",
      "epoch: 7, loss: 2.3291798866271973, test accu.: 0.09815705128205128\n",
      "epoch: 8, loss: 2.3441944176991782, test accu.: 0.09805689102564102\n",
      "epoch: 9, loss: 2.3446977615356444, test accu.: 0.09815705128205128\n",
      "epoch: 10, loss: 2.3445372212727866, test accu.: 0.09795673076923077\n",
      "epoch: 11, loss: 2.344426205952962, test accu.: 0.09805689102564102\n",
      "epoch: 12, loss: 2.344233762359619, test accu.: 0.09805689102564102\n",
      "epoch: 13, loss: 2.329939473851522, test accu.: 0.11368189102564102\n",
      "epoch: 14, loss: 2.3254627844492592, test accu.: 0.11328125\n",
      "epoch: 15, loss: 2.32539068069458, test accu.: 0.11348157051282051\n",
      "epoch: 16, loss: 2.318795354207357, test accu.: 0.09795673076923077\n",
      "epoch: 17, loss: 2.3032487389882403, test accu.: 0.09805689102564102\n",
      "epoch: 18, loss: 2.303283388900757, test accu.: 0.11348157051282051\n",
      "epoch: 19, loss: 2.303299731318156, test accu.: 0.11348157051282051\n"
     ]
    }
   ],
   "source": [
    "epochs = []\n",
    "losses = []\n",
    "accuracies = []\n",
    "\n",
    "for epoch in range(num_epochs):\n",
    "\n",
    "    epochs.append(epoch)\n",
    "    epochloss = 0\n",
    "    counter = 0\n",
    "\n",
    "    for data, targets in iter(train_loader):\n",
    "        data = data.to(device)\n",
    "        targets = targets.to(device)\n",
    "\n",
    "        # forward pass\n",
    "        model.train()\n",
    "        spk_rec, _ = CSNN.forward_pass_spikes(model, data, num_steps)\n",
    "\n",
    "        # initialize the loss & sum over time\n",
    "        loss_val = loss_fn(spk_rec, targets.long())\n",
    "\n",
    "        # gradient calculation + weight update\n",
    "        optimizer.zero_grad()\n",
    "        loss_val.backward()\n",
    "        optimizer.step()\n",
    "\n",
    "        epochloss += loss_val.item()\n",
    "        counter += 1\n",
    "    \n",
    "    epochloss = epochloss/counter\n",
    "    losses.append(epochloss)\n",
    "\n",
    "    with torch.no_grad():\n",
    "        model.eval()\n",
    "        test_acc = batch_accuracy(model, test_loader, device, num_steps)\n",
    "        accuracies.append(test_acc)\n",
    "\n",
    "    print(f'epoch: {epoch}, loss: {epochloss}, test accu.: {test_acc}')\n",
    "        "
   ]
  },
  {
   "cell_type": "markdown",
   "metadata": {},
   "source": [
    "### Plotting results"
   ]
  },
  {
   "cell_type": "code",
   "execution_count": 60,
   "metadata": {},
   "outputs": [
    {
     "data": {
      "image/png": "[encoded data removed]",
      "text/plain": [
       "<Figure size 640x480 with 1 Axes>"
      ]
     },
     "metadata": {},
     "output_type": "display_data"
    }
   ],
   "source": [
    "plt.plot(epochs, losses, '-o')\n",
    "plt.ylabel('loss')\n",
    "plt.xlabel('epoch')\n",
    "plt.show()"
   ]
  },
  {
   "cell_type": "code",
   "execution_count": 61,
   "metadata": {},
   "outputs": [
    {
     "data": {
      "image/png": "[encoded data removed]",
      "text/plain": [
       "<Figure size 640x480 with 1 Axes>"
      ]
     },
     "metadata": {},
     "output_type": "display_data"
    }
   ],
   "source": [
    "plt.plot(epochs, accuracies, '-o')\n",
    "plt.ylabel('accuracy')\n",
    "plt.xlabel('epoch')\n",
    "plt.show()"
   ]
  },
  {
   "cell_type": "code",
   "execution_count": 2,
   "metadata": {},
   "outputs": [],
   "source": [
    "model_path = create_results_dir()"
   ]
  },
  {
   "cell_type": "code",
   "execution_count": 4,
   "metadata": {},
   "outputs": [
    {
     "ename": "NameError",
     "evalue": "name 'model' is not defined",
     "output_type": "error",
     "traceback": [
      "\u001b[0;31m---------------------------------------------------------------------------\u001b[0m",
      "\u001b[0;31mNameError\u001b[0m                                 Traceback (most recent call last)",
      "Cell \u001b[0;32mIn[4], line 2\u001b[0m\n\u001b[1;32m      1\u001b[0m torch\u001b[38;5;241m.\u001b[39msave({\n\u001b[0;32m----> 2\u001b[0m         \u001b[38;5;124m'\u001b[39m\u001b[38;5;124mmodel_state_dict\u001b[39m\u001b[38;5;124m'\u001b[39m: model\u001b[38;5;241m.\u001b[39mstate_dict(),\n\u001b[1;32m      3\u001b[0m         \u001b[38;5;124m'\u001b[39m\u001b[38;5;124moptimizer_state_dict\u001b[39m\u001b[38;5;124m'\u001b[39m: optimizer\u001b[38;5;241m.\u001b[39mstate_dict(),\n\u001b[1;32m      4\u001b[0m         \u001b[38;5;124m'\u001b[39m\u001b[38;5;124mloss\u001b[39m\u001b[38;5;124m'\u001b[39m: loss_fn,\n\u001b[1;32m      5\u001b[0m     }, os\u001b[38;5;241m.\u001b[39mpath\u001b[38;5;241m.\u001b[39mjoin(model_path, \u001b[38;5;124m'\u001b[39m\u001b[38;5;124mmodel_optimizer_loss_dict.pt\u001b[39m\u001b[38;5;124m'\u001b[39m))\n",
      "\u001b[0;31mNameError\u001b[0m: name 'model' is not defined"
     ]
    }
   ],
   "source": [
    "torch.save({\n",
    "        'model_state_dict': model.state_dict(),\n",
    "        'optimizer_state_dict': optimizer.state_dict(),\n",
    "        'loss': loss_fn,\n",
    "    }, os.path.join(model_path, 'model_optimizer_loss_dict.pt'))"
   ]
  }
 ],
 "metadata": {
  "kernelspec": {
   "display_name": "csnn",
   "language": "python",
   "name": "python3"
  },
  "language_info": {
   "codemirror_mode": {
    "name": "ipython",
    "version": 3
   },
   "file_extension": ".py",
   "mimetype": "text/x-python",
   "name": "python",
   "nbconvert_exporter": "python",
   "pygments_lexer": "ipython3",
   "version": "3.11.3"
  }
 },
 "nbformat": 4,
 "nbformat_minor": 2
}
