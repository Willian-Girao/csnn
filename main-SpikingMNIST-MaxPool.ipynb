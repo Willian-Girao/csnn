{
 "cells": [
  {
   "cell_type": "markdown",
   "metadata": {},
   "source": [
    "### Imports"
   ]
  },
  {
   "cell_type": "code",
   "execution_count": 1,
   "metadata": {},
   "outputs": [],
   "source": [
    "import numpy as np\n",
    "import matplotlib.pyplot as plt\n",
    "\n",
    "from snntorch import functional as SF\n",
    "\n",
    "import torch, torchvision, os, time\n",
    "\n",
    "from Analog2SpikeDataset import SpikeDataset\n",
    "from torch.utils.data import DataLoader\n",
    "\n",
    "import torch.nn as nn\n",
    "from LIF import LIFlayer\n",
    "\n",
    "from CSNN import CSNN"
   ]
  },
  {
   "cell_type": "code",
   "execution_count": 2,
   "metadata": {},
   "outputs": [
    {
     "name": "stdout",
     "output_type": "stream",
     "text": [
      "device:  NVIDIA RTX A4000\n"
     ]
    }
   ],
   "source": [
    "if torch.cuda.is_available():               # check GPU availability\n",
    "    device = torch.device('cuda')\n",
    "else:\n",
    "    device = torch.device('cpu')\n",
    "print('device: ', torch.cuda.get_device_name(0))"
   ]
  },
  {
   "cell_type": "code",
   "execution_count": 3,
   "metadata": {},
   "outputs": [],
   "source": [
    "batch_size = 32\n",
    "num_steps = 50\n",
    "root = 'datasets'"
   ]
  },
  {
   "cell_type": "markdown",
   "metadata": {},
   "source": [
    "### Data Loading"
   ]
  },
  {
   "cell_type": "code",
   "execution_count": 4,
   "metadata": {},
   "outputs": [],
   "source": [
    "train_dataset = torchvision.datasets.MNIST(root, train=True, transform=None, target_transform=None, download=True)\n",
    "test_dataset = torchvision.datasets.MNIST(root, train=False, transform=None, target_transform=None, download=True)\n",
    "\n",
    "train_spks = SpikeDataset(train_dataset, num_steps=num_steps)\n",
    "test_spks = SpikeDataset(test_dataset, num_steps=num_steps)\n",
    "\n",
    "train_loader = DataLoader(train_spks, batch_size=batch_size, shuffle=True, drop_last=True)\n",
    "test_loader = DataLoader(test_spks, batch_size=batch_size, shuffle=True, drop_last=True)"
   ]
  },
  {
   "cell_type": "markdown",
   "metadata": {},
   "source": [
    "### Conv. SNN Model (Max. Pooling)"
   ]
  },
  {
   "cell_type": "code",
   "execution_count": 5,
   "metadata": {},
   "outputs": [],
   "source": [
    "class CSNN(nn.Module):\n",
    "    def __init__(self, input_size: tuple, batch_size=128, spk_threshold=1.0, k=25.0):\n",
    "        super().__init__()\n",
    "\n",
    "        self.k = k                      # slope of the surrogate gradient function\n",
    "        self.batch_size = batch_size\n",
    "\n",
    "        self.conv1 = nn.Conv2d(in_channels=1, out_channels=12, kernel_size=2, stride=1, padding=1)\n",
    "        self.lif1 = LIFlayer(threshold=spk_threshold)\n",
    "        self.maxpool1 = nn.MaxPool2d(kernel_size=2, stride=1)\n",
    "\n",
    "        self.conv2 = nn.Conv2d(in_channels=12, out_channels=64, kernel_size=2, stride=1, padding=1)\n",
    "        self.lif2 = LIFlayer(threshold=spk_threshold)\n",
    "        self.maxpool2 = nn.MaxPool2d(kernel_size=2, stride=1)\n",
    "\n",
    "        conv1_os = CSNN.conv_output_size(input_size=input_size, conv_st=1, conv_pd=1, conv_ks=2, poo_ks=2, poo_st=1)\n",
    "        conv2_os = CSNN.conv_output_size(input_size=conv1_os, conv_st=1, conv_pd=1, conv_ks=2, poo_ks=2, poo_st=1)\n",
    "        self.fc_input_size = 64*conv2_os[0]*conv2_os[1]\n",
    "\n",
    "        self.fc1 = nn.Linear(self.fc_input_size, 10)\n",
    "        self.lif3 = LIFlayer(output=True, threshold=spk_threshold)\n",
    "\n",
    "    def reset_states(self):\n",
    "        \"\"\" Access all LIF layers and reset membrane state tensors. \"\"\"\n",
    "        self.lif1.reset_mem()\n",
    "        self.lif2.reset_mem()\n",
    "        self.lif3.reset_mem()\n",
    "\n",
    "    def forward(self, x):\n",
    "        \"\"\" Forward pass on input tensor(s). \"\"\"\n",
    "\n",
    "        out = self.conv1(x)\n",
    "        out = self.lif1(out, self.k)\n",
    "        out = self.maxpool1(out)\n",
    "\n",
    "        out = self.conv2(out)\n",
    "        out = self.lif2(out, self.k)\n",
    "        out = self.maxpool2(out)\n",
    "\n",
    "        out = out.view(self.batch_size, -1)\n",
    "\n",
    "        out = self.fc1(out)\n",
    "        spk, mem = self.lif3(out, self.k)\n",
    "\n",
    "        return spk, mem\n",
    "    \n",
    "    @staticmethod\n",
    "    def forward_pass_static(net, data, num_steps=100):\n",
    "        \"\"\" Same input fed at every time step. \"\"\"\n",
    "        mem_rec = []\n",
    "        spk_rec = []\n",
    "        net.reset_states()                                 # resets hidden states for all LIF neurons in net\n",
    "\n",
    "        for step in range(num_steps):\n",
    "            spk_out, mem_out = net.forward(data)\n",
    "            spk_rec.append(spk_out)\n",
    "            mem_rec.append(mem_out)\n",
    "\n",
    "        return torch.stack(spk_rec), torch.stack(mem_rec)\n",
    "    \n",
    "    @staticmethod\n",
    "    def forward_pass_spikes(net, data, num_steps):\n",
    "        \"\"\" Input has different values for different time steps. \"\"\"\n",
    "        mem_rec = []\n",
    "        spk_rec = []\n",
    "        net.reset_states()                                              # resets hidden states for all LIF neurons in net\n",
    "\n",
    "        for step in range(num_steps):\n",
    "            spk_out, mem_out = net.forward(data[:, step:step+1, :, :])  # feed each time step sequentially\n",
    "\n",
    "            spk_rec.append(spk_out)\n",
    "            mem_rec.append(mem_out)\n",
    "\n",
    "        return torch.stack(spk_rec), torch.stack(mem_rec)\n",
    "\n",
    "    @staticmethod\n",
    "    def conv_output_size(input_size, conv_st, conv_pd, conv_ks, poo_ks, poo_st):\n",
    "        \"\"\" Calculate the output size after convolutional and max pooling layers. \"\"\"\n",
    "        conv_output_size = [(size + 2 * conv_pd - conv_ks) // conv_st + 1 for size in input_size]   # xonvolution with padding=1 and stride=1\n",
    "        pool_output_size = [(size - poo_ks) // poo_st + 1 for size in conv_output_size]             # max pooling with size=2 and stride=1\n",
    "        return pool_output_size"
   ]
  },
  {
   "cell_type": "code",
   "execution_count": 6,
   "metadata": {},
   "outputs": [],
   "source": [
    "model = CSNN(input_size=(28,28), batch_size=batch_size, spk_threshold=1.0).to(device)"
   ]
  },
  {
   "cell_type": "markdown",
   "metadata": {},
   "source": [
    "### Loss and Optimizer"
   ]
  },
  {
   "cell_type": "code",
   "execution_count": 7,
   "metadata": {},
   "outputs": [],
   "source": [
    "loss_fn = SF.ce_rate_loss()\n",
    "optimizer = torch.optim.Adam(model.parameters(), lr=1e-2, betas=(0.9, 0.999))\n",
    "num_epochs = 20"
   ]
  },
  {
   "cell_type": "markdown",
   "metadata": {},
   "source": [
    "### Training the model"
   ]
  },
  {
   "cell_type": "code",
   "execution_count": 8,
   "metadata": {},
   "outputs": [],
   "source": [
    "def batch_accuracy(model, data_loader, device, num_steps):\n",
    "    ''' Returns the accuracy on the entire DataLoader object. '''\n",
    "    with torch.no_grad():\n",
    "        total = 0\n",
    "        acc = 0\n",
    "        model.eval()\n",
    "\n",
    "        data_loader = iter(data_loader)\n",
    "        for data, targets in data_loader:\n",
    "            data = data.to(device)\n",
    "            targets = targets.to(device)\n",
    "            spk_rec, _ = CSNN.forward_pass_spikes(model, data, num_steps)\n",
    "\n",
    "            acc += SF.accuracy_rate(spk_rec, targets) * spk_rec.size(1)\n",
    "            total += spk_rec.size(1)\n",
    "\n",
    "    return acc/total"
   ]
  },
  {
   "cell_type": "code",
   "execution_count": 9,
   "metadata": {},
   "outputs": [
    {
     "name": "stderr",
     "output_type": "stream",
     "text": [
      "/home/p302242/github/csnn/Analog2SpikesTransforms.py:95: UserWarning: Creating a tensor from a list of numpy.ndarrays is extremely slow. Please consider converting the list to a single numpy.ndarray with numpy.array() before converting to a tensor. (Triggered internally at /opt/conda/conda-bld/pytorch_1708025845868/work/torch/csrc/utils/tensor_new.cpp:275.)\n",
      "  indices = torch.tensor(coo_, dtype=torch.int64)                             # [[total time steps], [input gridcell x axis], [input gridcell y axis]]\n"
     ]
    },
    {
     "name": "stdout",
     "output_type": "stream",
     "text": [
      "epoch: 0, loss: 2.2455837156931557, test accu.: 0.6147836538461539\n",
      "epoch: 1, loss: 2.2305792352040608, test accu.: 0.2263621794871795\n",
      "epoch: 2, loss: 2.257092813873291, test accu.: 0.21213942307692307\n",
      "epoch: 3, loss: 2.3022453620910643, test accu.: 0.4921875\n",
      "epoch: 4, loss: 2.2834879843393963, test accu.: 0.4677483974358974\n",
      "epoch: 5, loss: 2.3073858858744303, test accu.: 0.09805689102564102\n",
      "epoch: 6, loss: 2.340368531926473, test accu.: 0.09815705128205128\n",
      "epoch: 7, loss: 2.3417991823832196, test accu.: 0.10286458333333333\n",
      "epoch: 8, loss: 2.3730146708170574, test accu.: 0.09795673076923077\n",
      "epoch: 9, loss: 2.3295446904500325, test accu.: 0.09805689102564102\n",
      "epoch: 10, loss: 2.347245663579305, test accu.: 0.09795673076923077\n",
      "epoch: 11, loss: 2.4109372378031413, test accu.: 0.09815705128205128\n",
      "epoch: 12, loss: 2.3931141028086342, test accu.: 0.09815705128205128\n",
      "epoch: 13, loss: 2.373787101999919, test accu.: 0.10106169871794872\n",
      "epoch: 14, loss: 2.369078352737427, test accu.: 0.10116185897435898\n",
      "epoch: 15, loss: 2.3603831623077394, test accu.: 0.10086137820512821\n",
      "epoch: 16, loss: 2.351713906733195, test accu.: 0.10106169871794872\n",
      "epoch: 17, loss: 2.338930347442627, test accu.: 0.10086137820512821\n",
      "epoch: 18, loss: 2.3246549922943114, test accu.: 0.09805689102564102\n",
      "epoch: 19, loss: 2.3054112710316974, test accu.: 0.09795673076923077\n"
     ]
    }
   ],
   "source": [
    "epochs = []\n",
    "losses = []\n",
    "accuracies = []\n",
    "\n",
    "for epoch in range(num_epochs):\n",
    "\n",
    "    epochs.append(epoch)\n",
    "    epochloss = 0\n",
    "    counter = 0\n",
    "\n",
    "    for data, targets in iter(train_loader):\n",
    "        data = data.to(device)\n",
    "        targets = targets.to(device)\n",
    "\n",
    "        # forward pass\n",
    "        model.train()\n",
    "        spk_rec, _ = CSNN.forward_pass_spikes(model, data, num_steps)\n",
    "\n",
    "        # initialize the loss & sum over time\n",
    "        loss_val = loss_fn(spk_rec, targets.long())\n",
    "\n",
    "        # gradient calculation + weight update\n",
    "        optimizer.zero_grad()\n",
    "        loss_val.backward()\n",
    "        optimizer.step()\n",
    "\n",
    "        epochloss += loss_val.item()\n",
    "        counter += 1\n",
    "    \n",
    "    epochloss = epochloss/counter\n",
    "    losses.append(epochloss)\n",
    "\n",
    "    with torch.no_grad():\n",
    "        model.eval()\n",
    "        test_acc = batch_accuracy(model, test_loader, device, num_steps)\n",
    "        accuracies.append(test_acc)\n",
    "\n",
    "    print(f'epoch: {epoch}, loss: {epochloss}, test accu.: {test_acc}')\n",
    "        "
   ]
  },
  {
   "cell_type": "markdown",
   "metadata": {},
   "source": [
    "### Plotting results"
   ]
  },
  {
   "cell_type": "code",
   "execution_count": 10,
   "metadata": {},
   "outputs": [
    {
     "data": {
      "image/png": "[encoded data removed]",
      "text/plain": [
       "<Figure size 640x480 with 1 Axes>"
      ]
     },
     "metadata": {},
     "output_type": "display_data"
    }
   ],
   "source": [
    "plt.plot(epochs, losses, '-o')\n",
    "plt.ylabel('loss')\n",
    "plt.xlabel('epoch')\n",
    "plt.show()"
   ]
  },
  {
   "cell_type": "code",
   "execution_count": 11,
   "metadata": {},
   "outputs": [
    {
     "data": {
      "image/png": "[encoded data removed]",
      "text/plain": [
       "<Figure size 640x480 with 1 Axes>"
      ]
     },
     "metadata": {},
     "output_type": "display_data"
    }
   ],
   "source": [
    "plt.plot(epochs, accuracies, '-o')\n",
    "plt.ylabel('accuracy')\n",
    "plt.xlabel('epoch')\n",
    "plt.show()"
   ]
  }
 ],
 "metadata": {
  "kernelspec": {
   "display_name": "csnn",
   "language": "python",
   "name": "python3"
  },
  "language_info": {
   "codemirror_mode": {
    "name": "ipython",
    "version": 3
   },
   "file_extension": ".py",
   "mimetype": "text/x-python",
   "name": "python",
   "nbconvert_exporter": "python",
   "pygments_lexer": "ipython3",
   "version": "3.11.3"
  }
 },
 "nbformat": 4,
 "nbformat_minor": 2
}
